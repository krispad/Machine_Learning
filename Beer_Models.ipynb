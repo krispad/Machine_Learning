{
  "nbformat": 4,
  "nbformat_minor": 0,
  "metadata": {
    "colab": {
      "provenance": []
    },
    "kernelspec": {
      "name": "python3",
      "display_name": "Python 3"
    },
    "language_info": {
      "name": "python"
    }
  },
  "cells": [
    {
      "cell_type": "code",
      "metadata": {
        "id": "NgGFjS-CWvAX"
      },
      "source": [
        "!pip install -U -q PyDrive\n",
        "from pydrive.auth import GoogleAuth\n",
        "from pydrive.drive import GoogleDrive\n",
        "from google.colab import auth\n",
        "from oauth2client.client import GoogleCredentials"
      ],
      "execution_count": null,
      "outputs": []
    },
    {
      "cell_type": "code",
      "metadata": {
        "id": "QvtLA0cOxbU1"
      },
      "source": [
        "auth.authenticate_user()\n",
        "gauth = GoogleAuth()\n",
        "gauth.credentials = GoogleCredentials.get_application_default()\n",
        "drive = GoogleDrive(gauth)\n"
      ],
      "execution_count": null,
      "outputs": []
    },
    {
      "cell_type": "code",
      "metadata": {
        "id": "-Gqsn7W_PhSn"
      },
      "source": [
        "dwnload_file = drive.CreateFile({'id':'1urHYahb9NlEWNBOHJXrNg_RCmqOvQNZH'}) #'1TeCPI8sdja_24nvjfsAUe6YgZyQRwBt2'})\n"
      ],
      "execution_count": null,
      "outputs": []
    },
    {
      "cell_type": "code",
      "metadata": {
        "id": "WLXcyvZsQO5J"
      },
      "source": [
        "dwnload_file.GetContentFile('shelves_relevant.csv')"
      ],
      "execution_count": null,
      "outputs": []
    },
    {
      "cell_type": "code",
      "source": [
        "import pandas as pd\n",
        "shelves_relevant = pd.read_csv('shelves_relevant.csv')\n",
        "shelves_relevant.dropna(axis = 0, inplace = True)\n",
        "shelves_relevant.shape"
      ],
      "metadata": {
        "colab": {
          "base_uri": "https://localhost:8080/"
        },
        "id": "CIuhFO_7_o_4",
        "outputId": "ff99ea00-c07f-4696-c4ba-857f26f102bb"
      },
      "execution_count": null,
      "outputs": [
        {
          "output_type": "execute_result",
          "data": {
            "text/plain": [
              "(546097, 14)"
            ]
          },
          "metadata": {},
          "execution_count": 5
        }
      ]
    },
    {
      "cell_type": "code",
      "source": [
        "# Focus on the explanatory variables\n",
        "x = ['upc_description', 'storenum', 'wks']\n",
        "X = shelves_relevant.drop(['logistic_target', 'target_out_stock','year', 'upc', 'new_year_mth_wk', 'profit_unit', 'retail_price_unit'], axis = 1, inplace = False)\n",
        "X.dropna(axis  = 0, inplace = True)\n",
        "X_grouped = X.groupby(x) # groupedby object - grouping on 'upc_description', 'storenum', 'wks'\n",
        "#len(X_grouped.groups.keys())\n",
        "#[['gross_margin_dollars', 'scanned_retail_dollars','scanned_movement',  'scanned_retail_dollars:scanned_movement']]\n",
        "\n",
        "#mean_amts = X_grouped[['gross_margin_dollars', 'scanned_retail_dollars','scanned_movement',  'scanned_retail_dollars:scanned_movement']].apply(lambda u: (u - u.mean())/u.std())\n",
        "mean_amts = X_grouped.mean()\n",
        "mean_amts.reset_index(inplace = True)\n",
        "mean_amts.dropna(axis = 0, how = 'any', inplace = True)\n",
        "#mean_amts.index\n",
        "print(mean_amts.head(), mean_amts.shape)\n"
      ],
      "metadata": {
        "colab": {
          "base_uri": "https://localhost:8080/"
        },
        "id": "g29Cwq4cAh7E",
        "outputId": "647a2e42-a42c-40f2-8c99-d2b221c44bb6"
      },
      "execution_count": null,
      "outputs": [
        {
          "output_type": "stream",
          "name": "stdout",
          "text": [
            "             upc_description  storenum  wks  gross_margin_dollars  \\\n",
            "0  10 BARL CRSH SMPL 12P CAN       803  WK1              8.798750   \n",
            "1  10 BARL CRSH SMPL 12P CAN       803  WK2              7.405000   \n",
            "2  10 BARL CRSH SMPL 12P CAN       803  WK3             11.767143   \n",
            "3  10 BARL CRSH SMPL 12P CAN       803  WK4              8.344286   \n",
            "4  10 BARL CRSH SMPL 12P CAN       807  WK1             11.660000   \n",
            "\n",
            "   scanned_retail_dollars  scanned_movement  \\\n",
            "0               31.486250          1.375000   \n",
            "1               26.655000          1.166667   \n",
            "2               42.410000          1.857143   \n",
            "3               29.558571          1.285714   \n",
            "4               47.910667          2.266667   \n",
            "\n",
            "   scanned_retail_dollars:scanned_movement  \n",
            "0                                48.603750  \n",
            "1                                34.318333  \n",
            "2                                94.387143  \n",
            "3                                42.695714  \n",
            "4                               167.850667   (21648, 7)\n"
          ]
        }
      ]
    },
    {
      "cell_type": "code",
      "source": [
        "mean_amts.index\n"
      ],
      "metadata": {
        "colab": {
          "base_uri": "https://localhost:8080/"
        },
        "id": "U_GTwB4V6l9f",
        "outputId": "c60e9d02-d733-4e5f-e459-ef439aab6177"
      },
      "execution_count": null,
      "outputs": [
        {
          "output_type": "execute_result",
          "data": {
            "text/plain": [
              "RangeIndex(start=0, stop=21648, step=1)"
            ]
          },
          "metadata": {},
          "execution_count": 7
        }
      ]
    },
    {
      "cell_type": "code",
      "source": [
        "# Import OneHotEnCoder to use in construction of a Design Matrix\n",
        "import sklearn\n",
        "from sklearn.preprocessing import OneHotEncoder\n",
        "\n",
        "ohe = OneHotEncoder(drop = 'first') # instantiation\n",
        "ohe_rslts = ohe.fit_transform(mean_amts[['wks', 'upc_description', 'storenum']])\n",
        "colnames = list(mean_amts['wks'].unique()[1:]) + list(mean_amts['upc_description'].unique()[1:])+ [\"st\" + str(x) for x in list(mean_amts['storenum'].unique()[1:])]\n",
        "br_st_wk = pd.DataFrame(ohe_rslts.toarray(),columns = colnames )\n",
        "br_st_wk = br_st_wk.dropna(axis = 0) # in fact all rows are non-empty\n",
        "\n",
        "#br_st_wk.dropna(axis = 0, inplace = False)\n",
        "#br_st_wk.index = mean_amts.index\n",
        "br_st_wk.index\n"
      ],
      "metadata": {
        "colab": {
          "base_uri": "https://localhost:8080/"
        },
        "id": "Uqg6bXGzHyiE",
        "outputId": "8d77bcf0-6d4d-45df-e881-923b51e0aab7"
      },
      "execution_count": null,
      "outputs": [
        {
          "output_type": "execute_result",
          "data": {
            "text/plain": [
              "RangeIndex(start=0, stop=21648, step=1)"
            ]
          },
          "metadata": {},
          "execution_count": 12
        }
      ]
    },
    {
      "cell_type": "code",
      "source": [
        "x = ['upc_description', 'storenum', 'wks']\n",
        "y = shelves_relevant[['upc_description', 'storenum', 'wks', 'target_out_stock']].groupby(x,axis = 0).mean()\n",
        "y.reset_index(inplace = True)\n",
        "y.dropna(axis = 0, how = 'any', inplace = True)\n",
        "y.index"
      ],
      "metadata": {
        "colab": {
          "base_uri": "https://localhost:8080/"
        },
        "id": "ITgaWAbaN7_K",
        "outputId": "7925e219-e638-4a71-9618-c0ea676776be"
      },
      "execution_count": null,
      "outputs": [
        {
          "output_type": "execute_result",
          "data": {
            "text/plain": [
              "RangeIndex(start=0, stop=21648, step=1)"
            ]
          },
          "metadata": {},
          "execution_count": 13
        }
      ]
    },
    {
      "cell_type": "code",
      "source": [
        "z_right = mean_amts[['gross_margin_dollars', 'scanned_retail_dollars', 'scanned_movement', 'scanned_retail_dollars:scanned_movement']].head()\n",
        "z_right"
      ],
      "metadata": {
        "colab": {
          "base_uri": "https://localhost:8080/",
          "height": 206
        },
        "id": "hnh40ulvBAQS",
        "outputId": "ae5d09b6-0775-41c3-b666-e9ba55019abd"
      },
      "execution_count": null,
      "outputs": [
        {
          "output_type": "execute_result",
          "data": {
            "text/plain": [
              "   gross_margin_dollars  scanned_retail_dollars  scanned_movement  \\\n",
              "0              8.798750               31.486250          1.375000   \n",
              "1              7.405000               26.655000          1.166667   \n",
              "2             11.767143               42.410000          1.857143   \n",
              "3              8.344286               29.558571          1.285714   \n",
              "4             11.660000               47.910667          2.266667   \n",
              "\n",
              "   scanned_retail_dollars:scanned_movement  \n",
              "0                                48.603750  \n",
              "1                                34.318333  \n",
              "2                                94.387143  \n",
              "3                                42.695714  \n",
              "4                               167.850667  "
            ],
            "text/html": [
              "\n",
              "  <div id=\"df-7828d70a-0680-48f7-8f08-1d0d7225b63f\">\n",
              "    <div class=\"colab-df-container\">\n",
              "      <div>\n",
              "<style scoped>\n",
              "    .dataframe tbody tr th:only-of-type {\n",
              "        vertical-align: middle;\n",
              "    }\n",
              "\n",
              "    .dataframe tbody tr th {\n",
              "        vertical-align: top;\n",
              "    }\n",
              "\n",
              "    .dataframe thead th {\n",
              "        text-align: right;\n",
              "    }\n",
              "</style>\n",
              "<table border=\"1\" class=\"dataframe\">\n",
              "  <thead>\n",
              "    <tr style=\"text-align: right;\">\n",
              "      <th></th>\n",
              "      <th>gross_margin_dollars</th>\n",
              "      <th>scanned_retail_dollars</th>\n",
              "      <th>scanned_movement</th>\n",
              "      <th>scanned_retail_dollars:scanned_movement</th>\n",
              "    </tr>\n",
              "  </thead>\n",
              "  <tbody>\n",
              "    <tr>\n",
              "      <th>0</th>\n",
              "      <td>8.798750</td>\n",
              "      <td>31.486250</td>\n",
              "      <td>1.375000</td>\n",
              "      <td>48.603750</td>\n",
              "    </tr>\n",
              "    <tr>\n",
              "      <th>1</th>\n",
              "      <td>7.405000</td>\n",
              "      <td>26.655000</td>\n",
              "      <td>1.166667</td>\n",
              "      <td>34.318333</td>\n",
              "    </tr>\n",
              "    <tr>\n",
              "      <th>2</th>\n",
              "      <td>11.767143</td>\n",
              "      <td>42.410000</td>\n",
              "      <td>1.857143</td>\n",
              "      <td>94.387143</td>\n",
              "    </tr>\n",
              "    <tr>\n",
              "      <th>3</th>\n",
              "      <td>8.344286</td>\n",
              "      <td>29.558571</td>\n",
              "      <td>1.285714</td>\n",
              "      <td>42.695714</td>\n",
              "    </tr>\n",
              "    <tr>\n",
              "      <th>4</th>\n",
              "      <td>11.660000</td>\n",
              "      <td>47.910667</td>\n",
              "      <td>2.266667</td>\n",
              "      <td>167.850667</td>\n",
              "    </tr>\n",
              "  </tbody>\n",
              "</table>\n",
              "</div>\n",
              "      <button class=\"colab-df-convert\" onclick=\"convertToInteractive('df-7828d70a-0680-48f7-8f08-1d0d7225b63f')\"\n",
              "              title=\"Convert this dataframe to an interactive table.\"\n",
              "              style=\"display:none;\">\n",
              "        \n",
              "  <svg xmlns=\"http://www.w3.org/2000/svg\" height=\"24px\"viewBox=\"0 0 24 24\"\n",
              "       width=\"24px\">\n",
              "    <path d=\"M0 0h24v24H0V0z\" fill=\"none\"/>\n",
              "    <path d=\"M18.56 5.44l.94 2.06.94-2.06 2.06-.94-2.06-.94-.94-2.06-.94 2.06-2.06.94zm-11 1L8.5 8.5l.94-2.06 2.06-.94-2.06-.94L8.5 2.5l-.94 2.06-2.06.94zm10 10l.94 2.06.94-2.06 2.06-.94-2.06-.94-.94-2.06-.94 2.06-2.06.94z\"/><path d=\"M17.41 7.96l-1.37-1.37c-.4-.4-.92-.59-1.43-.59-.52 0-1.04.2-1.43.59L10.3 9.45l-7.72 7.72c-.78.78-.78 2.05 0 2.83L4 21.41c.39.39.9.59 1.41.59.51 0 1.02-.2 1.41-.59l7.78-7.78 2.81-2.81c.8-.78.8-2.07 0-2.86zM5.41 20L4 18.59l7.72-7.72 1.47 1.35L5.41 20z\"/>\n",
              "  </svg>\n",
              "      </button>\n",
              "      \n",
              "  <style>\n",
              "    .colab-df-container {\n",
              "      display:flex;\n",
              "      flex-wrap:wrap;\n",
              "      gap: 12px;\n",
              "    }\n",
              "\n",
              "    .colab-df-convert {\n",
              "      background-color: #E8F0FE;\n",
              "      border: none;\n",
              "      border-radius: 50%;\n",
              "      cursor: pointer;\n",
              "      display: none;\n",
              "      fill: #1967D2;\n",
              "      height: 32px;\n",
              "      padding: 0 0 0 0;\n",
              "      width: 32px;\n",
              "    }\n",
              "\n",
              "    .colab-df-convert:hover {\n",
              "      background-color: #E2EBFA;\n",
              "      box-shadow: 0px 1px 2px rgba(60, 64, 67, 0.3), 0px 1px 3px 1px rgba(60, 64, 67, 0.15);\n",
              "      fill: #174EA6;\n",
              "    }\n",
              "\n",
              "    [theme=dark] .colab-df-convert {\n",
              "      background-color: #3B4455;\n",
              "      fill: #D2E3FC;\n",
              "    }\n",
              "\n",
              "    [theme=dark] .colab-df-convert:hover {\n",
              "      background-color: #434B5C;\n",
              "      box-shadow: 0px 1px 3px 1px rgba(0, 0, 0, 0.15);\n",
              "      filter: drop-shadow(0px 1px 2px rgba(0, 0, 0, 0.3));\n",
              "      fill: #FFFFFF;\n",
              "    }\n",
              "  </style>\n",
              "\n",
              "      <script>\n",
              "        const buttonEl =\n",
              "          document.querySelector('#df-7828d70a-0680-48f7-8f08-1d0d7225b63f button.colab-df-convert');\n",
              "        buttonEl.style.display =\n",
              "          google.colab.kernel.accessAllowed ? 'block' : 'none';\n",
              "\n",
              "        async function convertToInteractive(key) {\n",
              "          const element = document.querySelector('#df-7828d70a-0680-48f7-8f08-1d0d7225b63f');\n",
              "          const dataTable =\n",
              "            await google.colab.kernel.invokeFunction('convertToInteractive',\n",
              "                                                     [key], {});\n",
              "          if (!dataTable) return;\n",
              "\n",
              "          const docLinkHtml = 'Like what you see? Visit the ' +\n",
              "            '<a target=\"_blank\" href=https://colab.research.google.com/notebooks/data_table.ipynb>data table notebook</a>'\n",
              "            + ' to learn more about interactive tables.';\n",
              "          element.innerHTML = '';\n",
              "          dataTable['output_type'] = 'display_data';\n",
              "          await google.colab.output.renderOutput(dataTable, element);\n",
              "          const docLink = document.createElement('div');\n",
              "          docLink.innerHTML = docLinkHtml;\n",
              "          element.appendChild(docLink);\n",
              "        }\n",
              "      </script>\n",
              "    </div>\n",
              "  </div>\n",
              "  "
            ]
          },
          "metadata": {},
          "execution_count": 44
        }
      ]
    },
    {
      "cell_type": "code",
      "source": [
        "z_left = br_st_wk.head()\n",
        "z_left\n",
        "\n"
      ],
      "metadata": {
        "colab": {
          "base_uri": "https://localhost:8080/",
          "height": 297
        },
        "id": "Tui5915UCBwS",
        "outputId": "33b866f5-605e-45b2-edb4-b3bd899fed00"
      },
      "execution_count": null,
      "outputs": [
        {
          "output_type": "execute_result",
          "data": {
            "text/plain": [
              "   WK2  WK3  WK4  10 BARREL APCLYPS 6PK BTL  10 BARREL APCLYPS IPA BTL  \\\n",
              "0  0.0  0.0  0.0                        0.0                        0.0   \n",
              "1  1.0  0.0  0.0                        0.0                        0.0   \n",
              "2  0.0  1.0  0.0                        0.0                        0.0   \n",
              "3  0.0  0.0  1.0                        0.0                        0.0   \n",
              "4  0.0  0.0  0.0                        0.0                        0.0   \n",
              "\n",
              "   10 BARREL APOCLYPS 6P CAN  10 BARREL JOE IPA 6P BTL  \\\n",
              "0                        0.0                       0.0   \n",
              "1                        0.0                       0.0   \n",
              "2                        0.0                       0.0   \n",
              "3                        0.0                       0.0   \n",
              "4                        0.0                       0.0   \n",
              "\n",
              "   10 BARREL MIX 12PK BTL  10 BARREL PEARL 6P CAN  10 BARREL SEASONAL BTL  \\\n",
              "0                     0.0                     0.0                     0.0   \n",
              "1                     0.0                     0.0                     0.0   \n",
              "2                     0.0                     0.0                     0.0   \n",
              "3                     0.0                     0.0                     0.0   \n",
              "4                     0.0                     0.0                     0.0   \n",
              "\n",
              "   ...  st824  st827  st828  st826  st894  st855  st859  st870  st106  st805  \n",
              "0  ...    0.0    0.0    0.0    0.0    0.0    0.0    0.0    0.0    0.0    0.0  \n",
              "1  ...    0.0    0.0    0.0    0.0    0.0    0.0    0.0    0.0    0.0    0.0  \n",
              "2  ...    0.0    0.0    0.0    0.0    0.0    0.0    0.0    0.0    0.0    0.0  \n",
              "3  ...    0.0    0.0    0.0    0.0    0.0    0.0    0.0    0.0    0.0    0.0  \n",
              "4  ...    0.0    0.0    0.0    0.0    0.0    0.0    0.0    0.0    0.0    0.0  \n",
              "\n",
              "[5 rows x 771 columns]"
            ],
            "text/html": [
              "\n",
              "  <div id=\"df-29df99ee-90bb-4d59-b3f2-a85dcb279902\">\n",
              "    <div class=\"colab-df-container\">\n",
              "      <div>\n",
              "<style scoped>\n",
              "    .dataframe tbody tr th:only-of-type {\n",
              "        vertical-align: middle;\n",
              "    }\n",
              "\n",
              "    .dataframe tbody tr th {\n",
              "        vertical-align: top;\n",
              "    }\n",
              "\n",
              "    .dataframe thead th {\n",
              "        text-align: right;\n",
              "    }\n",
              "</style>\n",
              "<table border=\"1\" class=\"dataframe\">\n",
              "  <thead>\n",
              "    <tr style=\"text-align: right;\">\n",
              "      <th></th>\n",
              "      <th>WK2</th>\n",
              "      <th>WK3</th>\n",
              "      <th>WK4</th>\n",
              "      <th>10 BARREL APCLYPS 6PK BTL</th>\n",
              "      <th>10 BARREL APCLYPS IPA BTL</th>\n",
              "      <th>10 BARREL APOCLYPS 6P CAN</th>\n",
              "      <th>10 BARREL JOE IPA 6P BTL</th>\n",
              "      <th>10 BARREL MIX 12PK BTL</th>\n",
              "      <th>10 BARREL PEARL 6P CAN</th>\n",
              "      <th>10 BARREL SEASONAL BTL</th>\n",
              "      <th>...</th>\n",
              "      <th>st824</th>\n",
              "      <th>st827</th>\n",
              "      <th>st828</th>\n",
              "      <th>st826</th>\n",
              "      <th>st894</th>\n",
              "      <th>st855</th>\n",
              "      <th>st859</th>\n",
              "      <th>st870</th>\n",
              "      <th>st106</th>\n",
              "      <th>st805</th>\n",
              "    </tr>\n",
              "  </thead>\n",
              "  <tbody>\n",
              "    <tr>\n",
              "      <th>0</th>\n",
              "      <td>0.0</td>\n",
              "      <td>0.0</td>\n",
              "      <td>0.0</td>\n",
              "      <td>0.0</td>\n",
              "      <td>0.0</td>\n",
              "      <td>0.0</td>\n",
              "      <td>0.0</td>\n",
              "      <td>0.0</td>\n",
              "      <td>0.0</td>\n",
              "      <td>0.0</td>\n",
              "      <td>...</td>\n",
              "      <td>0.0</td>\n",
              "      <td>0.0</td>\n",
              "      <td>0.0</td>\n",
              "      <td>0.0</td>\n",
              "      <td>0.0</td>\n",
              "      <td>0.0</td>\n",
              "      <td>0.0</td>\n",
              "      <td>0.0</td>\n",
              "      <td>0.0</td>\n",
              "      <td>0.0</td>\n",
              "    </tr>\n",
              "    <tr>\n",
              "      <th>1</th>\n",
              "      <td>1.0</td>\n",
              "      <td>0.0</td>\n",
              "      <td>0.0</td>\n",
              "      <td>0.0</td>\n",
              "      <td>0.0</td>\n",
              "      <td>0.0</td>\n",
              "      <td>0.0</td>\n",
              "      <td>0.0</td>\n",
              "      <td>0.0</td>\n",
              "      <td>0.0</td>\n",
              "      <td>...</td>\n",
              "      <td>0.0</td>\n",
              "      <td>0.0</td>\n",
              "      <td>0.0</td>\n",
              "      <td>0.0</td>\n",
              "      <td>0.0</td>\n",
              "      <td>0.0</td>\n",
              "      <td>0.0</td>\n",
              "      <td>0.0</td>\n",
              "      <td>0.0</td>\n",
              "      <td>0.0</td>\n",
              "    </tr>\n",
              "    <tr>\n",
              "      <th>2</th>\n",
              "      <td>0.0</td>\n",
              "      <td>1.0</td>\n",
              "      <td>0.0</td>\n",
              "      <td>0.0</td>\n",
              "      <td>0.0</td>\n",
              "      <td>0.0</td>\n",
              "      <td>0.0</td>\n",
              "      <td>0.0</td>\n",
              "      <td>0.0</td>\n",
              "      <td>0.0</td>\n",
              "      <td>...</td>\n",
              "      <td>0.0</td>\n",
              "      <td>0.0</td>\n",
              "      <td>0.0</td>\n",
              "      <td>0.0</td>\n",
              "      <td>0.0</td>\n",
              "      <td>0.0</td>\n",
              "      <td>0.0</td>\n",
              "      <td>0.0</td>\n",
              "      <td>0.0</td>\n",
              "      <td>0.0</td>\n",
              "    </tr>\n",
              "    <tr>\n",
              "      <th>3</th>\n",
              "      <td>0.0</td>\n",
              "      <td>0.0</td>\n",
              "      <td>1.0</td>\n",
              "      <td>0.0</td>\n",
              "      <td>0.0</td>\n",
              "      <td>0.0</td>\n",
              "      <td>0.0</td>\n",
              "      <td>0.0</td>\n",
              "      <td>0.0</td>\n",
              "      <td>0.0</td>\n",
              "      <td>...</td>\n",
              "      <td>0.0</td>\n",
              "      <td>0.0</td>\n",
              "      <td>0.0</td>\n",
              "      <td>0.0</td>\n",
              "      <td>0.0</td>\n",
              "      <td>0.0</td>\n",
              "      <td>0.0</td>\n",
              "      <td>0.0</td>\n",
              "      <td>0.0</td>\n",
              "      <td>0.0</td>\n",
              "    </tr>\n",
              "    <tr>\n",
              "      <th>4</th>\n",
              "      <td>0.0</td>\n",
              "      <td>0.0</td>\n",
              "      <td>0.0</td>\n",
              "      <td>0.0</td>\n",
              "      <td>0.0</td>\n",
              "      <td>0.0</td>\n",
              "      <td>0.0</td>\n",
              "      <td>0.0</td>\n",
              "      <td>0.0</td>\n",
              "      <td>0.0</td>\n",
              "      <td>...</td>\n",
              "      <td>0.0</td>\n",
              "      <td>0.0</td>\n",
              "      <td>0.0</td>\n",
              "      <td>0.0</td>\n",
              "      <td>0.0</td>\n",
              "      <td>0.0</td>\n",
              "      <td>0.0</td>\n",
              "      <td>0.0</td>\n",
              "      <td>0.0</td>\n",
              "      <td>0.0</td>\n",
              "    </tr>\n",
              "  </tbody>\n",
              "</table>\n",
              "<p>5 rows × 771 columns</p>\n",
              "</div>\n",
              "      <button class=\"colab-df-convert\" onclick=\"convertToInteractive('df-29df99ee-90bb-4d59-b3f2-a85dcb279902')\"\n",
              "              title=\"Convert this dataframe to an interactive table.\"\n",
              "              style=\"display:none;\">\n",
              "        \n",
              "  <svg xmlns=\"http://www.w3.org/2000/svg\" height=\"24px\"viewBox=\"0 0 24 24\"\n",
              "       width=\"24px\">\n",
              "    <path d=\"M0 0h24v24H0V0z\" fill=\"none\"/>\n",
              "    <path d=\"M18.56 5.44l.94 2.06.94-2.06 2.06-.94-2.06-.94-.94-2.06-.94 2.06-2.06.94zm-11 1L8.5 8.5l.94-2.06 2.06-.94-2.06-.94L8.5 2.5l-.94 2.06-2.06.94zm10 10l.94 2.06.94-2.06 2.06-.94-2.06-.94-.94-2.06-.94 2.06-2.06.94z\"/><path d=\"M17.41 7.96l-1.37-1.37c-.4-.4-.92-.59-1.43-.59-.52 0-1.04.2-1.43.59L10.3 9.45l-7.72 7.72c-.78.78-.78 2.05 0 2.83L4 21.41c.39.39.9.59 1.41.59.51 0 1.02-.2 1.41-.59l7.78-7.78 2.81-2.81c.8-.78.8-2.07 0-2.86zM5.41 20L4 18.59l7.72-7.72 1.47 1.35L5.41 20z\"/>\n",
              "  </svg>\n",
              "      </button>\n",
              "      \n",
              "  <style>\n",
              "    .colab-df-container {\n",
              "      display:flex;\n",
              "      flex-wrap:wrap;\n",
              "      gap: 12px;\n",
              "    }\n",
              "\n",
              "    .colab-df-convert {\n",
              "      background-color: #E8F0FE;\n",
              "      border: none;\n",
              "      border-radius: 50%;\n",
              "      cursor: pointer;\n",
              "      display: none;\n",
              "      fill: #1967D2;\n",
              "      height: 32px;\n",
              "      padding: 0 0 0 0;\n",
              "      width: 32px;\n",
              "    }\n",
              "\n",
              "    .colab-df-convert:hover {\n",
              "      background-color: #E2EBFA;\n",
              "      box-shadow: 0px 1px 2px rgba(60, 64, 67, 0.3), 0px 1px 3px 1px rgba(60, 64, 67, 0.15);\n",
              "      fill: #174EA6;\n",
              "    }\n",
              "\n",
              "    [theme=dark] .colab-df-convert {\n",
              "      background-color: #3B4455;\n",
              "      fill: #D2E3FC;\n",
              "    }\n",
              "\n",
              "    [theme=dark] .colab-df-convert:hover {\n",
              "      background-color: #434B5C;\n",
              "      box-shadow: 0px 1px 3px 1px rgba(0, 0, 0, 0.15);\n",
              "      filter: drop-shadow(0px 1px 2px rgba(0, 0, 0, 0.3));\n",
              "      fill: #FFFFFF;\n",
              "    }\n",
              "  </style>\n",
              "\n",
              "      <script>\n",
              "        const buttonEl =\n",
              "          document.querySelector('#df-29df99ee-90bb-4d59-b3f2-a85dcb279902 button.colab-df-convert');\n",
              "        buttonEl.style.display =\n",
              "          google.colab.kernel.accessAllowed ? 'block' : 'none';\n",
              "\n",
              "        async function convertToInteractive(key) {\n",
              "          const element = document.querySelector('#df-29df99ee-90bb-4d59-b3f2-a85dcb279902');\n",
              "          const dataTable =\n",
              "            await google.colab.kernel.invokeFunction('convertToInteractive',\n",
              "                                                     [key], {});\n",
              "          if (!dataTable) return;\n",
              "\n",
              "          const docLinkHtml = 'Like what you see? Visit the ' +\n",
              "            '<a target=\"_blank\" href=https://colab.research.google.com/notebooks/data_table.ipynb>data table notebook</a>'\n",
              "            + ' to learn more about interactive tables.';\n",
              "          element.innerHTML = '';\n",
              "          dataTable['output_type'] = 'display_data';\n",
              "          await google.colab.output.renderOutput(dataTable, element);\n",
              "          const docLink = document.createElement('div');\n",
              "          docLink.innerHTML = docLinkHtml;\n",
              "          element.appendChild(docLink);\n",
              "        }\n",
              "      </script>\n",
              "    </div>\n",
              "  </div>\n",
              "  "
            ]
          },
          "metadata": {},
          "execution_count": 47
        }
      ]
    },
    {
      "cell_type": "code",
      "source": [
        "br_st_wk.merge(mean_amts[['gross_margin_dollars', 'scanned_retail_dollars', 'scanned_movement', 'scanned_retail_dollars:scanned_movement']], how = 'inner', left_index =True, right_index = True)"
      ],
      "metadata": {
        "id": "q0QckmtC-Ego",
        "colab": {
          "base_uri": "https://localhost:8080/",
          "height": 557
        },
        "outputId": "b827ee00-040f-4ff3-bcc1-52c05ab5cebf"
      },
      "execution_count": null,
      "outputs": [
        {
          "output_type": "execute_result",
          "data": {
            "text/plain": [
              "       WK2  WK3  WK4  10 BARREL APCLYPS 6PK BTL  10 BARREL APCLYPS IPA BTL  \\\n",
              "0      0.0  0.0  0.0                        0.0                        0.0   \n",
              "1      1.0  0.0  0.0                        0.0                        0.0   \n",
              "2      0.0  1.0  0.0                        0.0                        0.0   \n",
              "3      0.0  0.0  1.0                        0.0                        0.0   \n",
              "4      0.0  0.0  0.0                        0.0                        0.0   \n",
              "...    ...  ...  ...                        ...                        ...   \n",
              "21643  0.0  0.0  1.0                        0.0                        0.0   \n",
              "21644  0.0  0.0  0.0                        0.0                        0.0   \n",
              "21645  1.0  0.0  0.0                        0.0                        0.0   \n",
              "21646  0.0  1.0  0.0                        0.0                        0.0   \n",
              "21647  0.0  0.0  1.0                        0.0                        0.0   \n",
              "\n",
              "       10 BARREL APOCLYPS 6P CAN  10 BARREL JOE IPA 6P BTL  \\\n",
              "0                            0.0                       0.0   \n",
              "1                            0.0                       0.0   \n",
              "2                            0.0                       0.0   \n",
              "3                            0.0                       0.0   \n",
              "4                            0.0                       0.0   \n",
              "...                          ...                       ...   \n",
              "21643                        0.0                       0.0   \n",
              "21644                        0.0                       0.0   \n",
              "21645                        0.0                       0.0   \n",
              "21646                        0.0                       0.0   \n",
              "21647                        0.0                       0.0   \n",
              "\n",
              "       10 BARREL MIX 12PK BTL  10 BARREL PEARL 6P CAN  10 BARREL SEASONAL BTL  \\\n",
              "0                         0.0                     0.0                     0.0   \n",
              "1                         0.0                     0.0                     0.0   \n",
              "2                         0.0                     0.0                     0.0   \n",
              "3                         0.0                     0.0                     0.0   \n",
              "4                         0.0                     0.0                     0.0   \n",
              "...                       ...                     ...                     ...   \n",
              "21643                     0.0                     0.0                     0.0   \n",
              "21644                     0.0                     0.0                     0.0   \n",
              "21645                     0.0                     0.0                     0.0   \n",
              "21646                     0.0                     0.0                     0.0   \n",
              "21647                     0.0                     0.0                     0.0   \n",
              "\n",
              "       ...  st894  st855  st859  st870  st106  st805  gross_margin_dollars  \\\n",
              "0      ...    0.0    0.0    0.0    0.0    0.0    0.0              8.798750   \n",
              "1      ...    0.0    0.0    0.0    0.0    0.0    0.0              7.405000   \n",
              "2      ...    0.0    0.0    0.0    0.0    0.0    0.0             11.767143   \n",
              "3      ...    0.0    0.0    0.0    0.0    0.0    0.0              8.344286   \n",
              "4      ...    0.0    0.0    0.0    0.0    0.0    0.0             11.660000   \n",
              "...    ...    ...    ...    ...    ...    ...    ...                   ...   \n",
              "21643  ...    0.0    0.0    0.0    0.0    0.0    0.0              0.000000   \n",
              "21644  ...    0.0    0.0    0.0    0.0    0.0    0.0              0.000000   \n",
              "21645  ...    0.0    0.0    0.0    0.0    0.0    0.0              0.000000   \n",
              "21646  ...    0.0    0.0    0.0    0.0    0.0    0.0              0.000000   \n",
              "21647  ...    0.0    0.0    0.0    0.0    0.0    0.0              0.000000   \n",
              "\n",
              "       scanned_retail_dollars  scanned_movement  \\\n",
              "0                   31.486250          1.375000   \n",
              "1                   26.655000          1.166667   \n",
              "2                   42.410000          1.857143   \n",
              "3                   29.558571          1.285714   \n",
              "4                   47.910667          2.266667   \n",
              "...                       ...               ...   \n",
              "21643               14.525833          4.916667   \n",
              "21644               92.458947          9.368421   \n",
              "21645               99.981667         10.166667   \n",
              "21646               98.343889         10.055556   \n",
              "21647               94.088947          9.526316   \n",
              "\n",
              "       scanned_retail_dollars:scanned_movement  \n",
              "0                                    48.603750  \n",
              "1                                    34.318333  \n",
              "2                                    94.387143  \n",
              "3                                    42.695714  \n",
              "4                                   167.850667  \n",
              "...                                        ...  \n",
              "21643                                98.329167  \n",
              "21644                              1016.735786  \n",
              "21645                              1191.563890  \n",
              "21646                              1023.591667  \n",
              "21647                              1060.428947  \n",
              "\n",
              "[21648 rows x 775 columns]"
            ],
            "text/html": [
              "\n",
              "  <div id=\"df-53e6c3c1-740d-4d1d-aeb3-6697c83408c6\">\n",
              "    <div class=\"colab-df-container\">\n",
              "      <div>\n",
              "<style scoped>\n",
              "    .dataframe tbody tr th:only-of-type {\n",
              "        vertical-align: middle;\n",
              "    }\n",
              "\n",
              "    .dataframe tbody tr th {\n",
              "        vertical-align: top;\n",
              "    }\n",
              "\n",
              "    .dataframe thead th {\n",
              "        text-align: right;\n",
              "    }\n",
              "</style>\n",
              "<table border=\"1\" class=\"dataframe\">\n",
              "  <thead>\n",
              "    <tr style=\"text-align: right;\">\n",
              "      <th></th>\n",
              "      <th>WK2</th>\n",
              "      <th>WK3</th>\n",
              "      <th>WK4</th>\n",
              "      <th>10 BARREL APCLYPS 6PK BTL</th>\n",
              "      <th>10 BARREL APCLYPS IPA BTL</th>\n",
              "      <th>10 BARREL APOCLYPS 6P CAN</th>\n",
              "      <th>10 BARREL JOE IPA 6P BTL</th>\n",
              "      <th>10 BARREL MIX 12PK BTL</th>\n",
              "      <th>10 BARREL PEARL 6P CAN</th>\n",
              "      <th>10 BARREL SEASONAL BTL</th>\n",
              "      <th>...</th>\n",
              "      <th>st894</th>\n",
              "      <th>st855</th>\n",
              "      <th>st859</th>\n",
              "      <th>st870</th>\n",
              "      <th>st106</th>\n",
              "      <th>st805</th>\n",
              "      <th>gross_margin_dollars</th>\n",
              "      <th>scanned_retail_dollars</th>\n",
              "      <th>scanned_movement</th>\n",
              "      <th>scanned_retail_dollars:scanned_movement</th>\n",
              "    </tr>\n",
              "  </thead>\n",
              "  <tbody>\n",
              "    <tr>\n",
              "      <th>0</th>\n",
              "      <td>0.0</td>\n",
              "      <td>0.0</td>\n",
              "      <td>0.0</td>\n",
              "      <td>0.0</td>\n",
              "      <td>0.0</td>\n",
              "      <td>0.0</td>\n",
              "      <td>0.0</td>\n",
              "      <td>0.0</td>\n",
              "      <td>0.0</td>\n",
              "      <td>0.0</td>\n",
              "      <td>...</td>\n",
              "      <td>0.0</td>\n",
              "      <td>0.0</td>\n",
              "      <td>0.0</td>\n",
              "      <td>0.0</td>\n",
              "      <td>0.0</td>\n",
              "      <td>0.0</td>\n",
              "      <td>8.798750</td>\n",
              "      <td>31.486250</td>\n",
              "      <td>1.375000</td>\n",
              "      <td>48.603750</td>\n",
              "    </tr>\n",
              "    <tr>\n",
              "      <th>1</th>\n",
              "      <td>1.0</td>\n",
              "      <td>0.0</td>\n",
              "      <td>0.0</td>\n",
              "      <td>0.0</td>\n",
              "      <td>0.0</td>\n",
              "      <td>0.0</td>\n",
              "      <td>0.0</td>\n",
              "      <td>0.0</td>\n",
              "      <td>0.0</td>\n",
              "      <td>0.0</td>\n",
              "      <td>...</td>\n",
              "      <td>0.0</td>\n",
              "      <td>0.0</td>\n",
              "      <td>0.0</td>\n",
              "      <td>0.0</td>\n",
              "      <td>0.0</td>\n",
              "      <td>0.0</td>\n",
              "      <td>7.405000</td>\n",
              "      <td>26.655000</td>\n",
              "      <td>1.166667</td>\n",
              "      <td>34.318333</td>\n",
              "    </tr>\n",
              "    <tr>\n",
              "      <th>2</th>\n",
              "      <td>0.0</td>\n",
              "      <td>1.0</td>\n",
              "      <td>0.0</td>\n",
              "      <td>0.0</td>\n",
              "      <td>0.0</td>\n",
              "      <td>0.0</td>\n",
              "      <td>0.0</td>\n",
              "      <td>0.0</td>\n",
              "      <td>0.0</td>\n",
              "      <td>0.0</td>\n",
              "      <td>...</td>\n",
              "      <td>0.0</td>\n",
              "      <td>0.0</td>\n",
              "      <td>0.0</td>\n",
              "      <td>0.0</td>\n",
              "      <td>0.0</td>\n",
              "      <td>0.0</td>\n",
              "      <td>11.767143</td>\n",
              "      <td>42.410000</td>\n",
              "      <td>1.857143</td>\n",
              "      <td>94.387143</td>\n",
              "    </tr>\n",
              "    <tr>\n",
              "      <th>3</th>\n",
              "      <td>0.0</td>\n",
              "      <td>0.0</td>\n",
              "      <td>1.0</td>\n",
              "      <td>0.0</td>\n",
              "      <td>0.0</td>\n",
              "      <td>0.0</td>\n",
              "      <td>0.0</td>\n",
              "      <td>0.0</td>\n",
              "      <td>0.0</td>\n",
              "      <td>0.0</td>\n",
              "      <td>...</td>\n",
              "      <td>0.0</td>\n",
              "      <td>0.0</td>\n",
              "      <td>0.0</td>\n",
              "      <td>0.0</td>\n",
              "      <td>0.0</td>\n",
              "      <td>0.0</td>\n",
              "      <td>8.344286</td>\n",
              "      <td>29.558571</td>\n",
              "      <td>1.285714</td>\n",
              "      <td>42.695714</td>\n",
              "    </tr>\n",
              "    <tr>\n",
              "      <th>4</th>\n",
              "      <td>0.0</td>\n",
              "      <td>0.0</td>\n",
              "      <td>0.0</td>\n",
              "      <td>0.0</td>\n",
              "      <td>0.0</td>\n",
              "      <td>0.0</td>\n",
              "      <td>0.0</td>\n",
              "      <td>0.0</td>\n",
              "      <td>0.0</td>\n",
              "      <td>0.0</td>\n",
              "      <td>...</td>\n",
              "      <td>0.0</td>\n",
              "      <td>0.0</td>\n",
              "      <td>0.0</td>\n",
              "      <td>0.0</td>\n",
              "      <td>0.0</td>\n",
              "      <td>0.0</td>\n",
              "      <td>11.660000</td>\n",
              "      <td>47.910667</td>\n",
              "      <td>2.266667</td>\n",
              "      <td>167.850667</td>\n",
              "    </tr>\n",
              "    <tr>\n",
              "      <th>...</th>\n",
              "      <td>...</td>\n",
              "      <td>...</td>\n",
              "      <td>...</td>\n",
              "      <td>...</td>\n",
              "      <td>...</td>\n",
              "      <td>...</td>\n",
              "      <td>...</td>\n",
              "      <td>...</td>\n",
              "      <td>...</td>\n",
              "      <td>...</td>\n",
              "      <td>...</td>\n",
              "      <td>...</td>\n",
              "      <td>...</td>\n",
              "      <td>...</td>\n",
              "      <td>...</td>\n",
              "      <td>...</td>\n",
              "      <td>...</td>\n",
              "      <td>...</td>\n",
              "      <td>...</td>\n",
              "      <td>...</td>\n",
              "      <td>...</td>\n",
              "    </tr>\n",
              "    <tr>\n",
              "      <th>21643</th>\n",
              "      <td>0.0</td>\n",
              "      <td>0.0</td>\n",
              "      <td>1.0</td>\n",
              "      <td>0.0</td>\n",
              "      <td>0.0</td>\n",
              "      <td>0.0</td>\n",
              "      <td>0.0</td>\n",
              "      <td>0.0</td>\n",
              "      <td>0.0</td>\n",
              "      <td>0.0</td>\n",
              "      <td>...</td>\n",
              "      <td>0.0</td>\n",
              "      <td>0.0</td>\n",
              "      <td>0.0</td>\n",
              "      <td>0.0</td>\n",
              "      <td>0.0</td>\n",
              "      <td>0.0</td>\n",
              "      <td>0.000000</td>\n",
              "      <td>14.525833</td>\n",
              "      <td>4.916667</td>\n",
              "      <td>98.329167</td>\n",
              "    </tr>\n",
              "    <tr>\n",
              "      <th>21644</th>\n",
              "      <td>0.0</td>\n",
              "      <td>0.0</td>\n",
              "      <td>0.0</td>\n",
              "      <td>0.0</td>\n",
              "      <td>0.0</td>\n",
              "      <td>0.0</td>\n",
              "      <td>0.0</td>\n",
              "      <td>0.0</td>\n",
              "      <td>0.0</td>\n",
              "      <td>0.0</td>\n",
              "      <td>...</td>\n",
              "      <td>0.0</td>\n",
              "      <td>0.0</td>\n",
              "      <td>0.0</td>\n",
              "      <td>0.0</td>\n",
              "      <td>0.0</td>\n",
              "      <td>0.0</td>\n",
              "      <td>0.000000</td>\n",
              "      <td>92.458947</td>\n",
              "      <td>9.368421</td>\n",
              "      <td>1016.735786</td>\n",
              "    </tr>\n",
              "    <tr>\n",
              "      <th>21645</th>\n",
              "      <td>1.0</td>\n",
              "      <td>0.0</td>\n",
              "      <td>0.0</td>\n",
              "      <td>0.0</td>\n",
              "      <td>0.0</td>\n",
              "      <td>0.0</td>\n",
              "      <td>0.0</td>\n",
              "      <td>0.0</td>\n",
              "      <td>0.0</td>\n",
              "      <td>0.0</td>\n",
              "      <td>...</td>\n",
              "      <td>0.0</td>\n",
              "      <td>0.0</td>\n",
              "      <td>0.0</td>\n",
              "      <td>0.0</td>\n",
              "      <td>0.0</td>\n",
              "      <td>0.0</td>\n",
              "      <td>0.000000</td>\n",
              "      <td>99.981667</td>\n",
              "      <td>10.166667</td>\n",
              "      <td>1191.563890</td>\n",
              "    </tr>\n",
              "    <tr>\n",
              "      <th>21646</th>\n",
              "      <td>0.0</td>\n",
              "      <td>1.0</td>\n",
              "      <td>0.0</td>\n",
              "      <td>0.0</td>\n",
              "      <td>0.0</td>\n",
              "      <td>0.0</td>\n",
              "      <td>0.0</td>\n",
              "      <td>0.0</td>\n",
              "      <td>0.0</td>\n",
              "      <td>0.0</td>\n",
              "      <td>...</td>\n",
              "      <td>0.0</td>\n",
              "      <td>0.0</td>\n",
              "      <td>0.0</td>\n",
              "      <td>0.0</td>\n",
              "      <td>0.0</td>\n",
              "      <td>0.0</td>\n",
              "      <td>0.000000</td>\n",
              "      <td>98.343889</td>\n",
              "      <td>10.055556</td>\n",
              "      <td>1023.591667</td>\n",
              "    </tr>\n",
              "    <tr>\n",
              "      <th>21647</th>\n",
              "      <td>0.0</td>\n",
              "      <td>0.0</td>\n",
              "      <td>1.0</td>\n",
              "      <td>0.0</td>\n",
              "      <td>0.0</td>\n",
              "      <td>0.0</td>\n",
              "      <td>0.0</td>\n",
              "      <td>0.0</td>\n",
              "      <td>0.0</td>\n",
              "      <td>0.0</td>\n",
              "      <td>...</td>\n",
              "      <td>0.0</td>\n",
              "      <td>0.0</td>\n",
              "      <td>0.0</td>\n",
              "      <td>0.0</td>\n",
              "      <td>0.0</td>\n",
              "      <td>0.0</td>\n",
              "      <td>0.000000</td>\n",
              "      <td>94.088947</td>\n",
              "      <td>9.526316</td>\n",
              "      <td>1060.428947</td>\n",
              "    </tr>\n",
              "  </tbody>\n",
              "</table>\n",
              "<p>21648 rows × 775 columns</p>\n",
              "</div>\n",
              "      <button class=\"colab-df-convert\" onclick=\"convertToInteractive('df-53e6c3c1-740d-4d1d-aeb3-6697c83408c6')\"\n",
              "              title=\"Convert this dataframe to an interactive table.\"\n",
              "              style=\"display:none;\">\n",
              "        \n",
              "  <svg xmlns=\"http://www.w3.org/2000/svg\" height=\"24px\"viewBox=\"0 0 24 24\"\n",
              "       width=\"24px\">\n",
              "    <path d=\"M0 0h24v24H0V0z\" fill=\"none\"/>\n",
              "    <path d=\"M18.56 5.44l.94 2.06.94-2.06 2.06-.94-2.06-.94-.94-2.06-.94 2.06-2.06.94zm-11 1L8.5 8.5l.94-2.06 2.06-.94-2.06-.94L8.5 2.5l-.94 2.06-2.06.94zm10 10l.94 2.06.94-2.06 2.06-.94-2.06-.94-.94-2.06-.94 2.06-2.06.94z\"/><path d=\"M17.41 7.96l-1.37-1.37c-.4-.4-.92-.59-1.43-.59-.52 0-1.04.2-1.43.59L10.3 9.45l-7.72 7.72c-.78.78-.78 2.05 0 2.83L4 21.41c.39.39.9.59 1.41.59.51 0 1.02-.2 1.41-.59l7.78-7.78 2.81-2.81c.8-.78.8-2.07 0-2.86zM5.41 20L4 18.59l7.72-7.72 1.47 1.35L5.41 20z\"/>\n",
              "  </svg>\n",
              "      </button>\n",
              "      \n",
              "  <style>\n",
              "    .colab-df-container {\n",
              "      display:flex;\n",
              "      flex-wrap:wrap;\n",
              "      gap: 12px;\n",
              "    }\n",
              "\n",
              "    .colab-df-convert {\n",
              "      background-color: #E8F0FE;\n",
              "      border: none;\n",
              "      border-radius: 50%;\n",
              "      cursor: pointer;\n",
              "      display: none;\n",
              "      fill: #1967D2;\n",
              "      height: 32px;\n",
              "      padding: 0 0 0 0;\n",
              "      width: 32px;\n",
              "    }\n",
              "\n",
              "    .colab-df-convert:hover {\n",
              "      background-color: #E2EBFA;\n",
              "      box-shadow: 0px 1px 2px rgba(60, 64, 67, 0.3), 0px 1px 3px 1px rgba(60, 64, 67, 0.15);\n",
              "      fill: #174EA6;\n",
              "    }\n",
              "\n",
              "    [theme=dark] .colab-df-convert {\n",
              "      background-color: #3B4455;\n",
              "      fill: #D2E3FC;\n",
              "    }\n",
              "\n",
              "    [theme=dark] .colab-df-convert:hover {\n",
              "      background-color: #434B5C;\n",
              "      box-shadow: 0px 1px 3px 1px rgba(0, 0, 0, 0.15);\n",
              "      filter: drop-shadow(0px 1px 2px rgba(0, 0, 0, 0.3));\n",
              "      fill: #FFFFFF;\n",
              "    }\n",
              "  </style>\n",
              "\n",
              "      <script>\n",
              "        const buttonEl =\n",
              "          document.querySelector('#df-53e6c3c1-740d-4d1d-aeb3-6697c83408c6 button.colab-df-convert');\n",
              "        buttonEl.style.display =\n",
              "          google.colab.kernel.accessAllowed ? 'block' : 'none';\n",
              "\n",
              "        async function convertToInteractive(key) {\n",
              "          const element = document.querySelector('#df-53e6c3c1-740d-4d1d-aeb3-6697c83408c6');\n",
              "          const dataTable =\n",
              "            await google.colab.kernel.invokeFunction('convertToInteractive',\n",
              "                                                     [key], {});\n",
              "          if (!dataTable) return;\n",
              "\n",
              "          const docLinkHtml = 'Like what you see? Visit the ' +\n",
              "            '<a target=\"_blank\" href=https://colab.research.google.com/notebooks/data_table.ipynb>data table notebook</a>'\n",
              "            + ' to learn more about interactive tables.';\n",
              "          element.innerHTML = '';\n",
              "          dataTable['output_type'] = 'display_data';\n",
              "          await google.colab.output.renderOutput(dataTable, element);\n",
              "          const docLink = document.createElement('div');\n",
              "          docLink.innerHTML = docLinkHtml;\n",
              "          element.appendChild(docLink);\n",
              "        }\n",
              "      </script>\n",
              "    </div>\n",
              "  </div>\n",
              "  "
            ]
          },
          "metadata": {},
          "execution_count": 48
        }
      ]
    },
    {
      "cell_type": "code",
      "source": [],
      "metadata": {
        "id": "DQmqJPlvCAWE"
      },
      "execution_count": null,
      "outputs": []
    },
    {
      "cell_type": "code",
      "source": [],
      "metadata": {
        "id": "cwaStHvZA-X-"
      },
      "execution_count": null,
      "outputs": []
    },
    {
      "cell_type": "code",
      "source": [
        "#merge the  datasets : mean_amts, br_st_wks\n",
        "\n",
        "X = br_st_wk.merge(mean_amts[['gross_margin_dollars', 'scanned_retail_dollars', 'scanned_movement', 'scanned_retail_dollars:scanned_movement']], how = 'inner' , left_index = True, right_index = True)\n",
        "\n",
        "y_response = br_st_wk.merge(y[['target_out_stock']], how = 'inner' , left_index = True, right_index = True)\n"
      ],
      "metadata": {
        "colab": {
          "base_uri": "https://localhost:8080/"
        },
        "id": "6fqevxmCexLM",
        "outputId": "986a9882-ce36-4a66-d387-a6b80c6fd117"
      },
      "execution_count": null,
      "outputs": [
        {
          "output_type": "stream",
          "name": "stdout",
          "text": [
            "   WK2  WK3  WK4  10 BARREL APCLYPS 6PK BTL  10 BARREL APCLYPS IPA BTL  \\\n",
            "0  0.0  0.0  0.0                        0.0                        0.0   \n",
            "1  1.0  0.0  0.0                        0.0                        0.0   \n",
            "2  0.0  1.0  0.0                        0.0                        0.0   \n",
            "3  0.0  0.0  1.0                        0.0                        0.0   \n",
            "4  0.0  0.0  0.0                        0.0                        0.0   \n",
            "\n",
            "   10 BARREL APOCLYPS 6P CAN  10 BARREL JOE IPA 6P BTL  \\\n",
            "0                        0.0                       0.0   \n",
            "1                        0.0                       0.0   \n",
            "2                        0.0                       0.0   \n",
            "3                        0.0                       0.0   \n",
            "4                        0.0                       0.0   \n",
            "\n",
            "   10 BARREL MIX 12PK BTL  10 BARREL PEARL 6P CAN  10 BARREL SEASONAL BTL  \\\n",
            "0                     0.0                     0.0                     0.0   \n",
            "1                     0.0                     0.0                     0.0   \n",
            "2                     0.0                     0.0                     0.0   \n",
            "3                     0.0                     0.0                     0.0   \n",
            "4                     0.0                     0.0                     0.0   \n",
            "\n",
            "   ...  st827  st828  st826  st894  st855  st859  st870  st106  st805  \\\n",
            "0  ...    0.0    0.0    0.0    0.0    0.0    0.0    0.0    0.0    0.0   \n",
            "1  ...    0.0    0.0    0.0    0.0    0.0    0.0    0.0    0.0    0.0   \n",
            "2  ...    0.0    0.0    0.0    0.0    0.0    0.0    0.0    0.0    0.0   \n",
            "3  ...    0.0    0.0    0.0    0.0    0.0    0.0    0.0    0.0    0.0   \n",
            "4  ...    0.0    0.0    0.0    0.0    0.0    0.0    0.0    0.0    0.0   \n",
            "\n",
            "   target_out_stock  \n",
            "0          0.000000  \n",
            "1          0.000000  \n",
            "2          0.142857  \n",
            "3          0.000000  \n",
            "4          0.000000  \n",
            "\n",
            "[5 rows x 772 columns]\n"
          ]
        }
      ]
    },
    {
      "cell_type": "code",
      "source": [
        "# Create Train and Test sets\n",
        "from sklearn.model_selection import train_test_split\n",
        "\n",
        "X_train, X_test , y_train, y_test  = sklearn.model_selection.train_test_split(X, y_response, test_size = .1, random_state = 100, stratify = None)"
      ],
      "metadata": {
        "id": "C-O6Qnl11gdV"
      },
      "execution_count": null,
      "outputs": []
    },
    {
      "cell_type": "code",
      "source": [
        "print( X_train.head())"
      ],
      "metadata": {
        "colab": {
          "base_uri": "https://localhost:8080/"
        },
        "id": "ROOFE3rf3BMR",
        "outputId": "99424dcf-c34c-434f-beaa-3174efdaa216"
      },
      "execution_count": null,
      "outputs": [
        {
          "output_type": "stream",
          "name": "stdout",
          "text": [
            "       key_0  WK2  WK3  WK4  10 BARREL APCLYPS 6PK BTL  \\\n",
            "14638  14638  1.0  0.0  0.0                        0.0   \n",
            "10986  10986  0.0  1.0  0.0                        0.0   \n",
            "12056  12056  1.0  0.0  0.0                        0.0   \n",
            "11482  11482  0.0  1.0  0.0                        0.0   \n",
            "6329    6329  1.0  0.0  0.0                        0.0   \n",
            "\n",
            "       10 BARREL APCLYPS IPA BTL  10 BARREL APOCLYPS 6P CAN  \\\n",
            "14638                        0.0                        0.0   \n",
            "10986                        0.0                        0.0   \n",
            "12056                        0.0                        0.0   \n",
            "11482                        0.0                        0.0   \n",
            "6329                         0.0                        0.0   \n",
            "\n",
            "       10 BARREL JOE IPA 6P BTL  10 BARREL MIX 12PK BTL  \\\n",
            "14638                       0.0                     0.0   \n",
            "10986                       0.0                     0.0   \n",
            "12056                       0.0                     0.0   \n",
            "11482                       0.0                     0.0   \n",
            "6329                        0.0                     0.0   \n",
            "\n",
            "       10 BARREL PEARL 6P CAN  ...  st894  st855  st859  st870  st106  st805  \\\n",
            "14638                     0.0  ...    0.0    0.0    0.0    0.0    0.0    0.0   \n",
            "10986                     0.0  ...    0.0    0.0    0.0    0.0    0.0    0.0   \n",
            "12056                     0.0  ...    0.0    0.0    0.0    0.0    0.0    0.0   \n",
            "11482                     0.0  ...    0.0    0.0    0.0    0.0    0.0    0.0   \n",
            "6329                      0.0  ...    0.0    0.0    0.0    0.0    0.0    0.0   \n",
            "\n",
            "       gross_margin_dollars  scanned_retail_dollars  scanned_movement  \\\n",
            "14638              0.000000               33.627812          4.062500   \n",
            "10986             11.331071               45.153214          2.535714   \n",
            "12056             24.165788               74.817879         48.666667   \n",
            "11482              0.000000               69.115263          6.894737   \n",
            "6329               0.000000               43.144242          5.272727   \n",
            "\n",
            "       scanned_retail_dollars:scanned_movement  \n",
            "14638                               167.003750  \n",
            "10986                               164.245357  \n",
            "12056                              3942.659090  \n",
            "11482                               626.401579  \n",
            "6329                                274.678788  \n",
            "\n",
            "[5 rows x 776 columns]\n"
          ]
        }
      ]
    },
    {
      "cell_type": "code",
      "source": [
        "from google.colab import drive\n",
        "drive.mount('/content/gdrive')\n",
        "\n"
      ],
      "metadata": {
        "colab": {
          "base_uri": "https://localhost:8080/"
        },
        "id": "1bZJ26-8ez7j",
        "outputId": "410d37a0-17b0-4212-ccdc-0d5476c2cd7a"
      },
      "execution_count": null,
      "outputs": [
        {
          "output_type": "stream",
          "name": "stdout",
          "text": [
            "Mounted at /content/gdrive\n"
          ]
        }
      ]
    },
    {
      "cell_type": "code",
      "source": [
        "y_train.to_csv('/content/gdrive/My Drive/Beer/yspl_train.csv' ,index = False)\n",
        "y_test.to_csv('/content/gdrive/My Drive/Beer/yspl_test.csv', index = False)\n",
        "X_train.to_csv('/content/gdrive/My Drive/Beer/X_train.csv', index = False)\n",
        "X_test.to_csv('/content/gdrive/My Drive/Beer/X_test.csv', index = False)"
      ],
      "metadata": {
        "id": "_-KK6YAsulcE"
      },
      "execution_count": null,
      "outputs": []
    },
    {
      "cell_type": "code",
      "source": [
        "import math\n",
        "import numpy as np\n",
        "target_train = np.ceil(y_train['target_out_stock'])\n",
        "target_test = np.ceil(y_test['target_out_stock'])\n",
        "max(target_train)"
      ],
      "metadata": {
        "id": "SFVkoe1n1jzd",
        "colab": {
          "base_uri": "https://localhost:8080/"
        },
        "outputId": "0bb6ab7e-6d48-4257-8702-b666d60261cc"
      },
      "execution_count": null,
      "outputs": [
        {
          "output_type": "execute_result",
          "data": {
            "text/plain": [
              "4.0"
            ]
          },
          "metadata": {},
          "execution_count": 13
        }
      ]
    },
    {
      "cell_type": "code",
      "source": [
        "import numpy as np\n",
        "import statsmodels.api as sm\n",
        "\n",
        "X_train_w_intcept = sm.add_constant(X_train)\n",
        "\n",
        "\n",
        "print(X_train_w_intcept.shape, target_train.index)\n",
        "a = X_train_w_intcept.merge(target_train.to_frame(), how  = 'inner',left_index = True, right_index = True)\n",
        "print(a.shape)\n",
        "b = a.dropna(axis = 0)\n",
        "print(b.shape)\n",
        "\n",
        "import matplotlib.pyplot as plt\n",
        "fig , ax = plt.subplots()\n",
        "ax.hist(target_train, bins = 10, label = 'target_out_stock')\n",
        "ax.legend()\n",
        "plt.show()"
      ],
      "metadata": {
        "colab": {
          "base_uri": "https://localhost:8080/",
          "height": 439
        },
        "id": "w4moSgNJNNmi",
        "outputId": "974ad5d6-31b5-48e4-83aa-c65d44d15b05"
      },
      "execution_count": null,
      "outputs": [
        {
          "output_type": "stream",
          "name": "stderr",
          "text": [
            "/usr/local/lib/python3.8/dist-packages/statsmodels/tsa/tsatools.py:142: FutureWarning: In a future version of pandas all arguments of concat except for the argument 'objs' will be keyword-only\n",
            "  x = pd.concat(x[::order], 1)\n"
          ]
        },
        {
          "output_type": "stream",
          "name": "stdout",
          "text": [
            "(19483, 777) Int64Index([14638, 10986, 12056, 11482,  6329,  1469, 16797, 13158,  8927,\n",
            "            16356,\n",
            "            ...\n",
            "            13890, 20533, 10082, 14260, 16734, 16304,    79, 12119, 14147,\n",
            "             5640],\n",
            "           dtype='int64', length=19483)\n",
            "(19483, 778)\n",
            "(19483, 778)\n"
          ]
        },
        {
          "output_type": "display_data",
          "data": {
            "text/plain": [
              "<Figure size 432x288 with 1 Axes>"
            ],
            "image/png": "[encoded data removed]"
          },
          "metadata": {
            "needs_background": "light"
          }
        }
      ]
    },
    {
      "cell_type": "code",
      "source": [
        "# Checking the non-singularity of the Design Matrix\n",
        "poisson_model = sm.GLM(np.array(target_train), np.array(X_train_w_intcept), family=sm.families.Poisson())\n",
        "u, s, vt = np.linalg.svd(poisson_model.exog, 0)\n",
        "\n",
        "print(min(s))\n",
        "\n",
        "# Note : A singular value (last in the diagonal matrix) is small ( ~ e-3)\n",
        "# we may try the 'elastic_net' method -- related to ridge regression thereby introducing some bias.\n"
      ],
      "metadata": {
        "id": "VEWU2osP4xEZ",
        "colab": {
          "base_uri": "https://localhost:8080/"
        },
        "outputId": "7d1badf3-f50e-48a0-b914-f2dd16463146"
      },
      "execution_count": null,
      "outputs": [
        {
          "output_type": "stream",
          "name": "stdout",
          "text": [
            "0.0063269597275408245\n"
          ]
        }
      ]
    },
    {
      "cell_type": "code",
      "source": [
        "dir(poisson_model.fit_regularized)\n"
      ],
      "metadata": {
        "id": "0YwqFlXC5BHr",
        "colab": {
          "base_uri": "https://localhost:8080/"
        },
        "outputId": "6cdb07dc-2a9a-4fe3-b1d1-48f242088cad"
      },
      "execution_count": null,
      "outputs": [
        {
          "output_type": "execute_result",
          "data": {
            "text/plain": [
              "['__call__',\n",
              " '__class__',\n",
              " '__delattr__',\n",
              " '__dir__',\n",
              " '__doc__',\n",
              " '__eq__',\n",
              " '__format__',\n",
              " '__func__',\n",
              " '__ge__',\n",
              " '__get__',\n",
              " '__getattribute__',\n",
              " '__gt__',\n",
              " '__hash__',\n",
              " '__init__',\n",
              " '__init_subclass__',\n",
              " '__le__',\n",
              " '__lt__',\n",
              " '__ne__',\n",
              " '__new__',\n",
              " '__reduce__',\n",
              " '__reduce_ex__',\n",
              " '__repr__',\n",
              " '__self__',\n",
              " '__setattr__',\n",
              " '__sizeof__',\n",
              " '__str__',\n",
              " '__subclasshook__']"
            ]
          },
          "metadata": {},
          "execution_count": 17
        }
      ]
    },
    {
      "cell_type": "code",
      "source": [
        "poisson_results = poisson_model.fit_regularized(method = \"elastic_net\", alpha = .1, maxiter = 500)   # fit(max_iter = 500) #\n",
        "\n",
        "dir(poisson_results)"
      ],
      "metadata": {
        "id": "2YZjxSQw4yhV",
        "colab": {
          "base_uri": "https://localhost:8080/"
        },
        "outputId": "731d4cd0-d362-4d31-b4c4-1e03f5934888"
      },
      "execution_count": null,
      "outputs": [
        {
          "output_type": "execute_result",
          "data": {
            "text/plain": [
              "['__class__',\n",
              " '__delattr__',\n",
              " '__dict__',\n",
              " '__dir__',\n",
              " '__doc__',\n",
              " '__eq__',\n",
              " '__format__',\n",
              " '__ge__',\n",
              " '__getattribute__',\n",
              " '__gt__',\n",
              " '__hash__',\n",
              " '__init__',\n",
              " '__init_subclass__',\n",
              " '__le__',\n",
              " '__lt__',\n",
              " '__module__',\n",
              " '__ne__',\n",
              " '__new__',\n",
              " '__reduce__',\n",
              " '__reduce_ex__',\n",
              " '__repr__',\n",
              " '__setattr__',\n",
              " '__sizeof__',\n",
              " '__str__',\n",
              " '__subclasshook__',\n",
              " '__weakref__',\n",
              " '_data_attr',\n",
              " '_data_in_cache',\n",
              " 'converged',\n",
              " 'fittedvalues',\n",
              " 'initialize',\n",
              " 'k_constant',\n",
              " 'model',\n",
              " 'params',\n",
              " 'predict',\n",
              " 'summary']"
            ]
          },
          "metadata": {},
          "execution_count": 18
        }
      ]
    },
    {
      "cell_type": "code",
      "source": [
        "yhat = poisson_results.fittedvalues\n",
        "#max_yhat =yhat.max()\n",
        "from statsmodels.graphics.api import abline_plot\n",
        "import matplotlib.pyplot as plt\n",
        "plt.rcParams['figure.constrained_layout.use'] = True\n",
        "fig, ax = plt.subplots(2,2)\n",
        "\n",
        "ax[0, 0].scatter(target_train, yhat)\n",
        "line_fit_train = sm.OLS(target_train, sm.add_constant(yhat, prepend = True)).fit()\n",
        "abline_plot(model_results=line_fit_train, ax=ax[0,0])\n",
        "ax[0, 0].set_title('Model Fit Plot')\n",
        "ax[0, 0].set_xlabel('Observed values')\n",
        "ax[0, 0].set_ylabel('Fitted values')\n",
        "n_bins = 10\n",
        "ax[0, 1].hist(target_train, bins = n_bins, density = True, color = 'blue')\n",
        "ax[0, 1].set_title(\"Observed Training Target\")\n",
        "\n",
        "X_w_intcept_test = sm.add_constant(X_test)\n",
        "y_pred_test = poisson_results.predict(X_w_intcept_test)\n",
        "\n",
        "ax[1, 0].scatter(target_test, y_pred_test)\n",
        "line_fit_test = sm.OLS(target_test, sm.add_constant(y_pred_test, prepend = True)).fit()\n",
        "abline_plot(model_results=line_fit_test, ax=ax[1,0])\n",
        "\n",
        "ax[1, 0].set_title('Model Fit Plot')\n",
        "ax[1, 0].set_xlabel('Observed values')\n",
        "ax[1, 0].set_ylabel('Fitted values')\n",
        "n_bins = 10\n",
        "#ax[1, 1].hist(y_usw_pred_test, bins = 10, density = True, color = None)\n",
        "ax[1,1].set_title(\"Observed Test Target\")\n",
        "ax[1, 1].hist(target_test, bins = n_bins, density = True, edgecolor = 'white', color = 'blue')\n",
        "plt.show()\n"
      ],
      "metadata": {
        "colab": {
          "base_uri": "https://localhost:8080/",
          "height": 348
        },
        "id": "HCcLNAf0480G",
        "outputId": "12866a37-9230-424b-a2e7-e30bdb79dcc9"
      },
      "execution_count": null,
      "outputs": [
        {
          "output_type": "stream",
          "name": "stderr",
          "text": [
            "/usr/local/lib/python3.8/dist-packages/statsmodels/tsa/tsatools.py:142: FutureWarning: In a future version of pandas all arguments of concat except for the argument 'objs' will be keyword-only\n",
            "  x = pd.concat(x[::order], 1)\n"
          ]
        },
        {
          "output_type": "display_data",
          "data": {
            "text/plain": [
              "<Figure size 432x288 with 4 Axes>"
            ],
            "image/png": "[encoded data removed]"
          },
          "metadata": {
            "needs_background": "light"
          }
        }
      ]
    },
    {
      "cell_type": "code",
      "source": [
        "import math\n",
        "import matplotlib.pyplot as plt\n",
        "X_train_w_intcept['est_prob'] = np.ones(len(yhat)) - np.exp(-yhat)\n",
        "fig , ax = plt.subplots()\n",
        "\n",
        "ax.scatter(target_train, X_train_w_intcept['est_prob'])\n",
        "plt.show()\n",
        "\n",
        "\n",
        "\n"
      ],
      "metadata": {
        "colab": {
          "base_uri": "https://localhost:8080/",
          "height": 313
        },
        "id": "_ZONE6PHH6zC",
        "outputId": "3a83b44a-9544-43ab-985b-b0aceb119549"
      },
      "execution_count": null,
      "outputs": [
        {
          "output_type": "display_data",
          "data": {
            "text/plain": [
              "<Figure size 432x288 with 1 Axes>"
            ],
            "image/png": "[encoded data removed]"
          },
          "metadata": {
            "needs_background": "light"
          }
        }
      ]
    },
    {
      "cell_type": "code",
      "source": [
        "from sklearn.metrics import roc_auc_score\n",
        "from sklearn.metrics import  roc_curve\n",
        "#from sklearn.metrics import RocCurveDisplay\n",
        "import matplotlib.pyplot as plt\n",
        "train_binary = [x > 0 for x in target_train]\n",
        "fpr,  tpr, _ = roc_curve(train_binary, X_train_w_intcept['est_prob'])\n",
        "\n",
        "fig, ax = plt.subplots()\n",
        "ax.plot([0, 1],[0, 1], lw = 1, color = 'blue')\n",
        "ax.plot(fpr, tpr, color = 'red')\n",
        "plt.ylim([0, 1.0])\n",
        "plt.xlim([0, 1])\n",
        "ax.set_title(\"Train: ROC\")\n",
        "ax.set_xlabel('False Positive Rate')\n",
        "ax.set_ylabel('True Positive Rate')\n",
        "\n",
        "#roc_curve_display = RocCurveDisplay(fpr = fpr, tpr = tpr).plot()\n"
      ],
      "metadata": {
        "colab": {
          "base_uri": "https://localhost:8080/",
          "height": 330
        },
        "id": "9IuJSYIGSDZS",
        "outputId": "333d0297-2e72-4192-ea02-408259fabed5"
      },
      "execution_count": null,
      "outputs": [
        {
          "output_type": "execute_result",
          "data": {
            "text/plain": [
              "Text(0, 0.5, 'True Positive Rate')"
            ]
          },
          "metadata": {},
          "execution_count": 28
        },
        {
          "output_type": "display_data",
          "data": {
            "text/plain": [
              "<Figure size 432x288 with 1 Axes>"
            ],
            "image/png": "[encoded data removed]"
          },
          "metadata": {
            "needs_background": "light"
          }
        }
      ]
    },
    {
      "cell_type": "code",
      "source": [],
      "metadata": {
        "id": "AY0EAbHBaMiv"
      },
      "execution_count": null,
      "outputs": []
    },
    {
      "cell_type": "markdown",
      "source": [
        "Introducing the Tweedie Model\n",
        "1) Initially choose a distribution based on the mean_tweedie_deviance\n",
        "2) Try a Poisson model to compare with the previous results\n",
        "3) To calculate the mean_tweedie_deviation, the numeric data is standardized."
      ],
      "metadata": {
        "id": "VpUAAhqwrox9"
      }
    },
    {
      "cell_type": "code",
      "source": [
        "#from sklearn.datasets import make_classification\n",
        "from sklearn.linear_model import TweedieRegressor\n",
        "#from sklearn.model_selection import train_test_split\n",
        "from sklearn.pipeline import make_pipeline\n",
        "from sklearn.preprocessing import StandardScaler\n",
        "\n",
        "#X, y = make_classification(random_state=42)\n",
        "#X_train, X_test, y_train, y_test = train_test_split(X, y, random_state=42)\n",
        "pipe = make_pipeline(StandardScaler(), TweedieRegressor(fit_intercept = True, power = 1.2))\n",
        "print(dir(pipe))\n",
        "pipe.fit(X_train, target_train)  # apply scaling on training data\n",
        "\n",
        "\n",
        "pipe.score(X_test, target_test)  # apply scaling on testing data, without leaking training data.\n"
      ],
      "metadata": {
        "colab": {
          "base_uri": "https://localhost:8080/"
        },
        "id": "xNwY6JQzyciQ",
        "outputId": "d075ae70-5717-4efa-8bbc-1d9fd42afd72"
      },
      "execution_count": null,
      "outputs": [
        {
          "output_type": "stream",
          "name": "stdout",
          "text": [
            "['__abstractmethods__', '__annotations__', '__class__', '__delattr__', '__dict__', '__dir__', '__doc__', '__eq__', '__format__', '__ge__', '__getattribute__', '__getitem__', '__getstate__', '__gt__', '__hash__', '__init__', '__init_subclass__', '__le__', '__len__', '__lt__', '__module__', '__ne__', '__new__', '__reduce__', '__reduce_ex__', '__repr__', '__setattr__', '__setstate__', '__sizeof__', '__sklearn_is_fitted__', '__str__', '__subclasshook__', '__weakref__', '_abc_impl', '_can_inverse_transform', '_can_transform', '_check_feature_names', '_check_fit_params', '_check_n_features', '_estimator_type', '_final_estimator', '_fit', '_get_param_names', '_get_params', '_get_tags', '_iter', '_log_message', '_more_tags', '_pairwise', '_replace_estimator', '_repr_html_', '_repr_html_inner', '_repr_mimebundle_', '_required_parameters', '_set_params', '_sk_visual_block_', '_validate_data', '_validate_names', '_validate_steps', 'classes_', 'decision_function', 'feature_names_in_', 'fit', 'fit_predict', 'fit_transform', 'get_feature_names_out', 'get_params', 'inverse_transform', 'memory', 'n_features_in_', 'named_steps', 'predict', 'predict_log_proba', 'predict_proba', 'score', 'score_samples', 'set_params', 'steps', 'transform', 'verbose']\n"
          ]
        },
        {
          "output_type": "execute_result",
          "data": {
            "text/plain": [
              "0.1340075253183951"
            ]
          },
          "metadata": {},
          "execution_count": 22
        }
      ]
    },
    {
      "cell_type": "code",
      "source": [
        "# Exploring various power ( variance power or \"tweedie_power\") options for the Tweedie Distribution\n",
        "# Calculating the deviances that result from the model that uses each 'power' number  in \"tweedie_power\"\n",
        "from sklearn import linear_model\n",
        "from sklearn.metrics import mean_tweedie_deviance\n",
        "from sklearn.pipeline import make_pipeline\n",
        "tweedie_power = [0, 1, 1.2, 1.4,  1.5,  1.7, 1.9]\n",
        "\n",
        "dev = []\n",
        "for tp in tweedie_power:\n",
        "     clf = make_pipeline(StandardScaler(), linear_model.TweedieRegressor(fit_intercept =True, power = tp, max_iter = 100))\n",
        "     clf.fit(X_train, target_train)\n",
        "     y_tw_pred = clf.predict(X_train)\n",
        "\n",
        "     dev.append(mean_tweedie_deviance(target_train, y_tw_pred, power = tp))\n",
        "dev"
      ],
      "metadata": {
        "id": "LoD48HXT5J-v",
        "colab": {
          "base_uri": "https://localhost:8080/"
        },
        "outputId": "07e6e8c9-a45c-416f-c65e-769cc57448a6"
      },
      "execution_count": null,
      "outputs": [
        {
          "output_type": "execute_result",
          "data": {
            "text/plain": [
              "[0.17950222314104144,\n",
              " 0.6292762045521139,\n",
              " 0.8651483485672284,\n",
              " 1.2832374299119025,\n",
              " 1.6330329111625719,\n",
              " 3.1076484461622886,\n",
              " 10.986438850314002]"
            ]
          },
          "metadata": {},
          "execution_count": 23
        }
      ]
    },
    {
      "cell_type": "code",
      "source": [],
      "metadata": {
        "id": "F-6OXZ9waOdG"
      },
      "execution_count": null,
      "outputs": []
    },
    {
      "cell_type": "code",
      "source": [
        "# The Normal Distribution ( variance_power = 0) has the lowest deviance\n",
        "import matplotlib.pyplot as plt\n",
        "plt.rcParams['figure.constrained_layout.use'] = True\n",
        "fig, ax = plt.subplots(2,2)\n",
        "\n",
        "#for tp in tweedie_power:\n",
        "for r in range(0, 2):\n",
        "     dist_name = ['Normal D', 'Power = 1.5']\n",
        "     clf = make_pipeline(StandardScaler(), linear_model.TweedieRegressor(fit_intercept = True, power = r*1.5))\n",
        "     clf.fit(X_train, target_train)\n",
        "     y_tw_pred_trn = clf.predict(X_train)\n",
        "\n",
        "     ax[r,0].plot(target_train, y_tw_pred_trn, 'o', color = 'red')\n",
        "\n",
        "     ax[r, 0].plot(target_train,target_train, color = 'green')\n",
        "     ax[r, 0].set_ylabel(\"prediction\")\n",
        "     ax[r, 0].set_xlabel(\"observation\")\n",
        "     ax[r, 0].set_title(f\"Train: Pred vs Obs, {dist_name[r]}\")\n",
        "\n",
        "\n",
        "     y_tw_pred_tst = clf.predict(X_test)\n",
        "\n",
        "     ax[r,1].plot(target_test, y_tw_pred_tst, 'o', color = 'red')\n",
        "\n",
        "     ax[r,1].plot(target_test, target_test, color = 'green')\n",
        "     ax[r,1].set_ylabel(\"prediction\")\n",
        "     ax[r,1].set_xlabel(\"observation\")\n",
        "     ax[r,1].set_title(f\"Test: Pred vs Obs, {dist_name[r]})\")\n",
        "\n",
        "plt.show()\n"
      ],
      "metadata": {
        "id": "0vMqyeQjJbSv",
        "colab": {
          "base_uri": "https://localhost:8080/",
          "height": 313
        },
        "outputId": "2f07392d-d142-4016-9980-886f44674824"
      },
      "execution_count": null,
      "outputs": [
        {
          "output_type": "display_data",
          "data": {
            "text/plain": [
              "<Figure size 432x288 with 4 Axes>"
            ],
            "image/png": "[encoded data removed]"
          },
          "metadata": {
            "needs_background": "light"
          }
        }
      ]
    },
    {
      "cell_type": "code",
      "source": [],
      "metadata": {
        "id": "-MDnqkqd8DXZ"
      },
      "execution_count": null,
      "outputs": []
    },
    {
      "cell_type": "code",
      "source": [
        "#AdaBoost Regression - Ensemble Method\n",
        "from sklearn.ensemble import AdaBoostRegressor\n",
        "mean_square = []\n",
        "len_test = target_test.shape[0]\n",
        "for n_est in range(10, 60, 2):\n",
        "    ada_regr = AdaBoostRegressor(learning_rate = 1.1, n_estimators = n_est, random_state = 170, loss = 'square')\n",
        "    ada_regr.fit(X_train, target_train)\n",
        "    #y_ada_pred_trn = ada_regr.predict(X_usw_mdl_train)\n",
        "    y_ada_pred_tst = ada_regr.predict(X_test)\n",
        "    u = [x**2 for x in list(np.array(y_ada_pred_tst) - np.array(target_test))]\n",
        "    mean_square.append((1/len_test)*sum(u))\n",
        "\n",
        "print(f'The mean squared error on the test set is {mean_square}')\n",
        "\n",
        "\n"
      ],
      "metadata": {
        "colab": {
          "base_uri": "https://localhost:8080/"
        },
        "id": "wokiTtTGX07n",
        "outputId": "f9f42b71-664a-46c9-a0e6-305f8aed11d8"
      },
      "execution_count": null,
      "outputs": [
        {
          "output_type": "stream",
          "name": "stdout",
          "text": [
            "The mean squared error on the test set is [0.1684718680859955, 0.16830610208046992, 0.17132750957952253, 0.17667576779259384, 0.17744144624754168, 0.1882416639603002, 0.20066462428235746, 0.20143484291315736, 0.20789271682364513, 0.21272006270760876, 0.21633182653209068, 0.21887218409666398, 0.22697263575974871, 0.24276024641799188, 0.2660500880026283, 0.2992942217543866, 0.31043139576593437, 0.32620203188793245, 0.3360904334331017, 0.33851460599039684, 0.3413552635160934, 0.3534932333381315, 0.36131352050573873, 0.37824100326420684, 0.38202749180830453]\n"
          ]
        }
      ]
    },
    {
      "cell_type": "code",
      "source": [
        "import matplotlib.pyplot as plt\n",
        "#plt.rcParams['figure.constrained_layout.use'] = True # Separates the plots --- allows the labels on the axes to be read.\n",
        "fig, ax = plt.subplots()\n",
        "ax.plot(range(10, 60, 2), mean_square, 'o', color = 'red')\n",
        "\n",
        "ax.set_ylabel(\"mean_square\")\n",
        "ax.set_xlabel(\"iteration\")\n",
        "ax.set_title(\"Test: iterations generating mean squared errors\")\n",
        "\n",
        "plt.show()\n"
      ],
      "metadata": {
        "colab": {
          "base_uri": "https://localhost:8080/",
          "height": 313
        },
        "id": "LZhZQBwCbQAb",
        "outputId": "c66c3356-8487-4c9b-abe9-5fab4f195e18"
      },
      "execution_count": null,
      "outputs": [
        {
          "output_type": "display_data",
          "data": {
            "text/plain": [
              "<Figure size 432x288 with 1 Axes>"
            ],
            "image/png": "[encoded data removed]"
          },
          "metadata": {
            "needs_background": "light"
          }
        }
      ]
    },
    {
      "cell_type": "code",
      "source": [
        "# Cross-Validation for\n",
        "# 1) AdaBoost Regression\n",
        "from sklearn.model_selection import cross_val_score\n",
        "from sklearn.metrics import mean_squared_error\n",
        "#AdaBoost Regression - Ensemble Method\n",
        "from sklearn.ensemble import AdaBoostRegressor\n",
        "ada_regr = AdaBoostRegressor(learning_rate = 1.1, n_estimators = 7, random_state = 170, loss = 'square')\n",
        "cross_val_score(ada_regr, X_train, target_train, cv = 3, scoring = 'neg_mean_squared_error' )\n",
        "ada_regr.fit(X_train, target_train)\n",
        "y_ada_pred_test = ada_regr.predict(X_test)\n",
        "mean_squared_error(y_ada_pred_test, target_test)\n",
        "\n"
      ],
      "metadata": {
        "id": "siZgjcj36ni1",
        "colab": {
          "base_uri": "https://localhost:8080/"
        },
        "outputId": "1b6eb0d7-f969-4d25-ec43-51a3611632a9"
      },
      "execution_count": null,
      "outputs": [
        {
          "output_type": "execute_result",
          "data": {
            "text/plain": [
              "0.1555123588642799"
            ]
          },
          "metadata": {},
          "execution_count": 43
        }
      ]
    },
    {
      "cell_type": "code",
      "source": [
        "import matplotlib.pyplot as plt\n",
        "\n",
        "fig, ax = plt.subplots(2,2 )\n",
        "ada_regr.fit(X_train, target_train)\n",
        "y_ada_pred_train = ada_regr.predict(X_train)\n",
        "y_ada_pred_test = ada_regr.predict(X_test)\n",
        "\n",
        "\n",
        "ax[0, 0].plot(target_train, y_ada_pred_train, 'o' ,color = 'red')\n",
        "ax[0, 0].plot(target_train, target_train, color = 'green')\n",
        "ax[0,0].set_xlabel('observations')\n",
        "ax[0,0].set_ylabel('Train: fitted_values')\n",
        "ax[0, 1].hist(target_train, bins = 5)\n",
        "ax[1, 0].plot(target_test, y_ada_pred_test,'o',  color = 'red')\n",
        "ax[1, 0].plot(target_test, target_test, color = 'green')\n",
        "ax[1, 1].hist(target_test, bins = 5)\n",
        "ax[1,0].set_xlabel('observations')\n",
        "ax[1,0].set_ylabel('Test:fitted_values')\n"
      ],
      "metadata": {
        "id": "MPg-LW4nLGeo",
        "colab": {
          "base_uri": "https://localhost:8080/",
          "height": 330
        },
        "outputId": "6cffac07-9aae-4d68-cebb-debe1af62c29"
      },
      "execution_count": null,
      "outputs": [
        {
          "output_type": "execute_result",
          "data": {
            "text/plain": [
              "Text(0, 0.5, 'Test:fitted_values')"
            ]
          },
          "metadata": {},
          "execution_count": 51
        },
        {
          "output_type": "display_data",
          "data": {
            "text/plain": [
              "<Figure size 432x288 with 4 Axes>"
            ],
            "image/png": "[encoded data removed]"
          },
          "metadata": {
            "needs_background": "light"
          }
        }
      ]
    },
    {
      "cell_type": "markdown",
      "source": [
        "The performance of the AdaBoost Regressor on the Test set is not significantly better than the Tweedie Distribution ( Power = 1.5) on the same Test set."
      ],
      "metadata": {
        "id": "uMRfcJi3PFfO"
      }
    },
    {
      "cell_type": "code",
      "source": [
        "# Random Forest Regressor\n",
        "from sklearn.ensemble import RandomForestRegressor\n",
        "rf = RandomForestRegressor(n_estimators = 100, max_depth = 10, ccp_alpha = 0)\n",
        "from sklearn.model_selection import cross_val_score\n",
        "from sklearn.metrics import mean_squared_error\n",
        "\n",
        "cross_val_score(rf, X_train, target_train, cv = 3, scoring = 'neg_mean_squared_error')\n",
        "rf.fit(X_train, target_train)\n",
        "y_rf_pred_train = rf.predict(X_train)\n",
        "y_rf_pred_tst = rf.predict(X_test)\n",
        "mean_squared_error(target_test, y_rf_pred_tst)\n",
        "\n"
      ],
      "metadata": {
        "id": "JbbGhTaxPaTZ",
        "colab": {
          "base_uri": "https://localhost:8080/"
        },
        "outputId": "50b6ad9b-f1a5-4562-890f-ee3e14d821b3"
      },
      "execution_count": null,
      "outputs": [
        {
          "output_type": "execute_result",
          "data": {
            "text/plain": [
              "0.13694178154545866"
            ]
          },
          "metadata": {},
          "execution_count": 13
        }
      ]
    },
    {
      "cell_type": "code",
      "source": [
        "import matplotlib.pyplot as plt\n",
        "fig , ax = plt.subplots(1,2)\n",
        "plt.rcParams['figure.constrained_layout.use'] = True\n",
        "ax[0].plot(target_train, y_rf_pred_train, 'o', color = 'red')\n",
        "ax[0].plot(target_train, target_train, color = 'green')\n",
        "ax[0].set_xlabel('Train: Observations ')\n",
        "ax[0].set_ylabel(\"Train: RF Predictions\")\n",
        "ax[1].plot(target_test, y_rf_pred_tst, 'o', color = 'red')\n",
        "ax[1].plot(target_test, target_test, color = 'green')\n",
        "ax[1].set_xlabel(\"Test: Observations\")\n",
        "ax[1].set_ylabel(\"Test:RF Predictions\")\n",
        "plt.show()\n"
      ],
      "metadata": {
        "colab": {
          "base_uri": "https://localhost:8080/",
          "height": 279
        },
        "id": "YHBHOSjnf_O7",
        "outputId": "21e40751-546c-4bdd-f257-9bf0beb1efb3"
      },
      "execution_count": null,
      "outputs": [
        {
          "output_type": "display_data",
          "data": {
            "text/plain": [
              "<Figure size 432x288 with 2 Axes>"
            ],
            "image/png": "[encoded data removed]"
          },
          "metadata": {
            "needs_background": "light"
          }
        }
      ]
    }
  ]
}
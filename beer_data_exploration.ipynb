{
 "cells": [
  {
   "cell_type": "code",
   "execution_count": null,
   "metadata": {
    "id": "NgGFjS-CWvAX"
   },
   "outputs": [],
   "source": [
    "!pip install -U -q PyDrive\n",
    "from pydrive.auth import GoogleAuth\n",
    "from pydrive.drive import GoogleDrive\n",
    "from google.colab import auth\n",
    "from oauth2client.client import GoogleCredentials"
   ]
  },
  {
   "cell_type": "code",
   "execution_count": null,
   "metadata": {
    "id": "QvtLA0cOxbU1"
   },
   "outputs": [],
   "source": [
    "auth.authenticate_user()\n",
    "gauth = GoogleAuth()\n",
    "gauth.credentials = GoogleCredentials.get_application_default()\n",
    "drive = GoogleDrive(gauth)\n"
   ]
  },
  {
   "cell_type": "code",
   "execution_count": null,
   "metadata": {
    "id": "-Gqsn7W_PhSn"
   },
   "outputs": [],
   "source": [
    "dwnload_file = drive.CreateFile({'id':'1urHYahb9NlEWNBOHJXrNg_RCmqOvQNZH'}) #'1TeCPI8sdja_24nvjfsAUe6YgZyQRwBt2'})"
   ]
  },
  {
   "cell_type": "code",
   "execution_count": null,
   "metadata": {
    "id": "WLXcyvZsQO5J"
   },
   "outputs": [],
   "source": [
    "dwnload_file.GetContentFile('shelves_relevant.csv')"
   ]
  },
  {
   "cell_type": "code",
   "execution_count": null,
   "metadata": {
    "id": "xxkKACtgQoFZ"
   },
   "outputs": [],
   "source": [
    "import pandas as pd\n",
    "shelves_relevant = pd.read_csv('shelves_relevant.csv')\n",
    "#shelves_relevant.tail()"
   ]
  },
  {
   "cell_type": "code",
   "execution_count": null,
   "metadata": {
    "colab": {
     "base_uri": "https://localhost:8080/"
    },
    "id": "zfTNtvpqr9Hh",
    "outputId": "cfc895ae-414c-429d-9ab7-719a5114047e"
   },
   "outputs": [
    {
     "data": {
      "text/plain": [
       "RangeIndex(start=0, stop=546101, step=1)"
      ]
     },
     "execution_count": 6,
     "metadata": {},
     "output_type": "execute_result"
    }
   ],
   "source": [
    "# Creation of a modelling dataset\n",
    "\n",
    "\n",
    "''' We need to aggregate over the 'upc', 'storenum' and 'new_year_mth_wk' ('wks', 'year') codes\n",
    "in order to obtain the number of out_of_stocks per week\n",
    "'''\n",
    "\n",
    "\n",
    "x = [\"target_out_stock\", \"logistic_target\", \"gross_margin_dollars\", \"scanned_retail_dollars\", \"scanned_movement\", \"profit_unit\", \"retail_price_unit\"]\n",
    "df = shelves_relevant.groupby(['upc', 'storenum', 'new_year_mth_wk', 'upc_description', \"wks\", \"year\"], axis = 0)[x].sum()\n",
    "\n",
    "shelves_relevant = df.reset_index()\n",
    "#shelves_relevant.shape\n",
    "shelves_relevant.index"
   ]
  },
  {
   "cell_type": "code",
   "execution_count": null,
   "metadata": {
    "colab": {
     "base_uri": "https://localhost:8080/"
    },
    "id": "C0HPHP2vsGps",
    "outputId": "2430f814-bae9-443f-ac87-6dcf53c5bfa1"
   },
   "outputs": [
    {
     "data": {
      "text/plain": [
       "0"
      ]
     },
     "execution_count": 8,
     "metadata": {},
     "output_type": "execute_result"
    }
   ],
   "source": [
    "# Checking for negative values in the scanned_retail_dollars column\n",
    "\n",
    "\n",
    "# We remove this data where it does not affect out_of_stock values --- rationale : these are returns that have not impacted out-of-stock shelves;  we will regard 'returns' as abnormal\n",
    "# behaviour but to be tolerated.  A negative profit (as indicated by the gross_margin_dollars var.) may be indicative of other factors -- discounts, sales, special events , etc\n",
    "\n",
    "a = shelves_relevant['scanned_retail_dollars'] < 0\n",
    "b = shelves_relevant['logistic_target'] > 0\n",
    "\n",
    "sum(a&b)\n"
   ]
  },
  {
   "cell_type": "code",
   "execution_count": null,
   "metadata": {
    "colab": {
     "base_uri": "https://localhost:8080/",
     "height": 357
    },
    "id": "IZUBzCFPA4nm",
    "outputId": "0e0c6be4-2292-4300-af0c-7d69567d9e49"
   },
   "outputs": [
    {
     "data": {
      "text/html": [
       "\n",
       "  <div id=\"df-e3397a98-89ae-4e84-a66f-cf31bdf85f92\">\n",
       "    <div class=\"colab-df-container\">\n",
       "      <div>\n",
       "<style scoped>\n",
       "    .dataframe tbody tr th:only-of-type {\n",
       "        vertical-align: middle;\n",
       "    }\n",
       "\n",
       "    .dataframe tbody tr th {\n",
       "        vertical-align: top;\n",
       "    }\n",
       "\n",
       "    .dataframe thead th {\n",
       "        text-align: right;\n",
       "    }\n",
       "</style>\n",
       "<table border=\"1\" class=\"dataframe\">\n",
       "  <thead>\n",
       "    <tr style=\"text-align: right;\">\n",
       "      <th></th>\n",
       "      <th>upc</th>\n",
       "      <th>storenum</th>\n",
       "      <th>new_year_mth_wk</th>\n",
       "      <th>upc_description</th>\n",
       "      <th>wks</th>\n",
       "      <th>year</th>\n",
       "      <th>target_out_stock</th>\n",
       "      <th>logistic_target</th>\n",
       "      <th>gross_margin_dollars</th>\n",
       "      <th>scanned_retail_dollars</th>\n",
       "      <th>scanned_movement</th>\n",
       "      <th>profit_unit</th>\n",
       "      <th>retail_price_unit</th>\n",
       "    </tr>\n",
       "  </thead>\n",
       "  <tbody>\n",
       "    <tr>\n",
       "      <th>0</th>\n",
       "      <td>1612102200</td>\n",
       "      <td>822</td>\n",
       "      <td>2018  PD 01  WK 1</td>\n",
       "      <td>JK SCRUMPY ORG HRD CD BTL</td>\n",
       "      <td>WK1</td>\n",
       "      <td>2018</td>\n",
       "      <td>0</td>\n",
       "      <td>0</td>\n",
       "      <td>0.0</td>\n",
       "      <td>8.99</td>\n",
       "      <td>1.0</td>\n",
       "      <td>0.0</td>\n",
       "      <td>8.99</td>\n",
       "    </tr>\n",
       "    <tr>\n",
       "      <th>1</th>\n",
       "      <td>1612102200</td>\n",
       "      <td>822</td>\n",
       "      <td>2018  PD 01  WK 2</td>\n",
       "      <td>JK SCRUMPY ORG HRD CD BTL</td>\n",
       "      <td>WK2</td>\n",
       "      <td>2018</td>\n",
       "      <td>0</td>\n",
       "      <td>0</td>\n",
       "      <td>0.0</td>\n",
       "      <td>6.99</td>\n",
       "      <td>1.0</td>\n",
       "      <td>0.0</td>\n",
       "      <td>6.99</td>\n",
       "    </tr>\n",
       "    <tr>\n",
       "      <th>2</th>\n",
       "      <td>1612102200</td>\n",
       "      <td>822</td>\n",
       "      <td>2018  PD 01  WK 3</td>\n",
       "      <td>JK SCRUMPY ORG HRD CD BTL</td>\n",
       "      <td>WK3</td>\n",
       "      <td>2018</td>\n",
       "      <td>0</td>\n",
       "      <td>0</td>\n",
       "      <td>0.0</td>\n",
       "      <td>6.99</td>\n",
       "      <td>1.0</td>\n",
       "      <td>0.0</td>\n",
       "      <td>6.99</td>\n",
       "    </tr>\n",
       "    <tr>\n",
       "      <th>3</th>\n",
       "      <td>1612102200</td>\n",
       "      <td>822</td>\n",
       "      <td>2018  PD 01  WK 4</td>\n",
       "      <td>JK SCRUMPY ORG HRD CD BTL</td>\n",
       "      <td>WK4</td>\n",
       "      <td>2018</td>\n",
       "      <td>0</td>\n",
       "      <td>0</td>\n",
       "      <td>0.0</td>\n",
       "      <td>13.98</td>\n",
       "      <td>2.0</td>\n",
       "      <td>0.0</td>\n",
       "      <td>6.99</td>\n",
       "    </tr>\n",
       "    <tr>\n",
       "      <th>4</th>\n",
       "      <td>1612102200</td>\n",
       "      <td>822</td>\n",
       "      <td>2018  PD 02  WK 1</td>\n",
       "      <td>JK SCRUMPY ORG HRD CD BTL</td>\n",
       "      <td>WK1</td>\n",
       "      <td>2018</td>\n",
       "      <td>0</td>\n",
       "      <td>0</td>\n",
       "      <td>0.0</td>\n",
       "      <td>6.99</td>\n",
       "      <td>1.0</td>\n",
       "      <td>0.0</td>\n",
       "      <td>6.99</td>\n",
       "    </tr>\n",
       "  </tbody>\n",
       "</table>\n",
       "</div>\n",
       "      <button class=\"colab-df-convert\" onclick=\"convertToInteractive('df-e3397a98-89ae-4e84-a66f-cf31bdf85f92')\"\n",
       "              title=\"Convert this dataframe to an interactive table.\"\n",
       "              style=\"display:none;\">\n",
       "        \n",
       "  <svg xmlns=\"http://www.w3.org/2000/svg\" height=\"24px\"viewBox=\"0 0 24 24\"\n",
       "       width=\"24px\">\n",
       "    <path d=\"M0 0h24v24H0V0z\" fill=\"none\"/>\n",
       "    <path d=\"M18.56 5.44l.94 2.06.94-2.06 2.06-.94-2.06-.94-.94-2.06-.94 2.06-2.06.94zm-11 1L8.5 8.5l.94-2.06 2.06-.94-2.06-.94L8.5 2.5l-.94 2.06-2.06.94zm10 10l.94 2.06.94-2.06 2.06-.94-2.06-.94-.94-2.06-.94 2.06-2.06.94z\"/><path d=\"M17.41 7.96l-1.37-1.37c-.4-.4-.92-.59-1.43-.59-.52 0-1.04.2-1.43.59L10.3 9.45l-7.72 7.72c-.78.78-.78 2.05 0 2.83L4 21.41c.39.39.9.59 1.41.59.51 0 1.02-.2 1.41-.59l7.78-7.78 2.81-2.81c.8-.78.8-2.07 0-2.86zM5.41 20L4 18.59l7.72-7.72 1.47 1.35L5.41 20z\"/>\n",
       "  </svg>\n",
       "      </button>\n",
       "      \n",
       "  <style>\n",
       "    .colab-df-container {\n",
       "      display:flex;\n",
       "      flex-wrap:wrap;\n",
       "      gap: 12px;\n",
       "    }\n",
       "\n",
       "    .colab-df-convert {\n",
       "      background-color: #E8F0FE;\n",
       "      border: none;\n",
       "      border-radius: 50%;\n",
       "      cursor: pointer;\n",
       "      display: none;\n",
       "      fill: #1967D2;\n",
       "      height: 32px;\n",
       "      padding: 0 0 0 0;\n",
       "      width: 32px;\n",
       "    }\n",
       "\n",
       "    .colab-df-convert:hover {\n",
       "      background-color: #E2EBFA;\n",
       "      box-shadow: 0px 1px 2px rgba(60, 64, 67, 0.3), 0px 1px 3px 1px rgba(60, 64, 67, 0.15);\n",
       "      fill: #174EA6;\n",
       "    }\n",
       "\n",
       "    [theme=dark] .colab-df-convert {\n",
       "      background-color: #3B4455;\n",
       "      fill: #D2E3FC;\n",
       "    }\n",
       "\n",
       "    [theme=dark] .colab-df-convert:hover {\n",
       "      background-color: #434B5C;\n",
       "      box-shadow: 0px 1px 3px 1px rgba(0, 0, 0, 0.15);\n",
       "      filter: drop-shadow(0px 1px 2px rgba(0, 0, 0, 0.3));\n",
       "      fill: #FFFFFF;\n",
       "    }\n",
       "  </style>\n",
       "\n",
       "      <script>\n",
       "        const buttonEl =\n",
       "          document.querySelector('#df-e3397a98-89ae-4e84-a66f-cf31bdf85f92 button.colab-df-convert');\n",
       "        buttonEl.style.display =\n",
       "          google.colab.kernel.accessAllowed ? 'block' : 'none';\n",
       "\n",
       "        async function convertToInteractive(key) {\n",
       "          const element = document.querySelector('#df-e3397a98-89ae-4e84-a66f-cf31bdf85f92');\n",
       "          const dataTable =\n",
       "            await google.colab.kernel.invokeFunction('convertToInteractive',\n",
       "                                                     [key], {});\n",
       "          if (!dataTable) return;\n",
       "\n",
       "          const docLinkHtml = 'Like what you see? Visit the ' +\n",
       "            '<a target=\"_blank\" href=https://colab.research.google.com/notebooks/data_table.ipynb>data table notebook</a>'\n",
       "            + ' to learn more about interactive tables.';\n",
       "          element.innerHTML = '';\n",
       "          dataTable['output_type'] = 'display_data';\n",
       "          await google.colab.output.renderOutput(dataTable, element);\n",
       "          const docLink = document.createElement('div');\n",
       "          docLink.innerHTML = docLinkHtml;\n",
       "          element.appendChild(docLink);\n",
       "        }\n",
       "      </script>\n",
       "    </div>\n",
       "  </div>\n",
       "  "
      ],
      "text/plain": [
       "          upc  storenum    new_year_mth_wk            upc_description  wks  \\\n",
       "0  1612102200       822  2018  PD 01  WK 1  JK SCRUMPY ORG HRD CD BTL  WK1   \n",
       "1  1612102200       822  2018  PD 01  WK 2  JK SCRUMPY ORG HRD CD BTL  WK2   \n",
       "2  1612102200       822  2018  PD 01  WK 3  JK SCRUMPY ORG HRD CD BTL  WK3   \n",
       "3  1612102200       822  2018  PD 01  WK 4  JK SCRUMPY ORG HRD CD BTL  WK4   \n",
       "4  1612102200       822  2018  PD 02  WK 1  JK SCRUMPY ORG HRD CD BTL  WK1   \n",
       "\n",
       "   year  target_out_stock  logistic_target  gross_margin_dollars  \\\n",
       "0  2018                 0                0                   0.0   \n",
       "1  2018                 0                0                   0.0   \n",
       "2  2018                 0                0                   0.0   \n",
       "3  2018                 0                0                   0.0   \n",
       "4  2018                 0                0                   0.0   \n",
       "\n",
       "   scanned_retail_dollars  scanned_movement  profit_unit  retail_price_unit  \n",
       "0                    8.99               1.0          0.0               8.99  \n",
       "1                    6.99               1.0          0.0               6.99  \n",
       "2                    6.99               1.0          0.0               6.99  \n",
       "3                   13.98               2.0          0.0               6.99  \n",
       "4                    6.99               1.0          0.0               6.99  "
      ]
     },
     "execution_count": 8,
     "metadata": {},
     "output_type": "execute_result"
    }
   ],
   "source": [
    "shelves_relevant.head()"
   ]
  },
  {
   "cell_type": "code",
   "execution_count": null,
   "metadata": {
    "id": "DUDl0KSktvai"
   },
   "outputs": [],
   "source": [
    "# Test and Model set construction and exploration of the modelling dataset\n",
    "#---------------------------------------------------------------------------\n",
    "\n",
    "\n",
    "import sklearn\n",
    "from sklearn.model_selection import train_test_split\n",
    "\n",
    "XR = shelves_relevant.drop(columns = ['target_out_stock', 'logistic_target']) # explanatory used here is 'logistic_target'\n",
    "\n",
    "\n",
    "y = shelves_relevant['logistic_target']   # response\n",
    "\n",
    "\n",
    "XR_train, XR_test, y_train, y_test = train_test_split(XR,y, test_size = .1, random_state = 200, stratify = XR[['storenum', 'wks']]) # Note the stratification\n",
    "\n"
   ]
  },
  {
   "cell_type": "code",
   "execution_count": null,
   "metadata": {
    "id": "ejcdR0lsb20B"
   },
   "outputs": [],
   "source": [
    "from google.colab import drive"
   ]
  },
  {
   "cell_type": "code",
   "execution_count": null,
   "metadata": {
    "colab": {
     "base_uri": "https://localhost:8080/"
    },
    "id": "FMd9rLUgcMsc",
    "outputId": "ff6f16bc-576d-4ad0-e0b5-33473ee825c7"
   },
   "outputs": [
    {
     "name": "stdout",
     "output_type": "stream",
     "text": [
      "Mounted at /content/drive\n"
     ]
    }
   ],
   "source": [
    "drive.mount('/content/drive')"
   ]
  },
  {
   "cell_type": "code",
   "execution_count": null,
   "metadata": {
    "id": "GfG3DrEDcgzz"
   },
   "outputs": [],
   "source": [
    "XR_train.to_csv('/content/drive/MyDrive/Beer/XR_train.csv', index = False)"
   ]
  },
  {
   "cell_type": "code",
   "execution_count": null,
   "metadata": {
    "id": "JJ6lpGGcc-eG"
   },
   "outputs": [],
   "source": [
    "XR_test.to_csv('/content/drive/MyDrive/Beer/XR_test.csv', index = False)\n"
   ]
  },
  {
   "cell_type": "code",
   "execution_count": null,
   "metadata": {
    "id": "0XOjFWQldOxB"
   },
   "outputs": [],
   "source": [
    "y_train.to_csv('/content/drive/MyDrive/Beer/y_train.csv', index = False)"
   ]
  },
  {
   "cell_type": "code",
   "execution_count": null,
   "metadata": {
    "id": "ShtXWOfldf3d"
   },
   "outputs": [],
   "source": [
    "y_test.to_csv('/content/drive/MyDrive/Beer/y_test.csv', index = False)"
   ]
  },
  {
   "cell_type": "code",
   "execution_count": null,
   "metadata": {
    "colab": {
     "base_uri": "https://localhost:8080/",
     "height": 301
    },
    "id": "5PQG1FyCvl57",
    "outputId": "795c8772-cabb-42f4-978d-7b0f5b2a6bc4"
   },
   "outputs": [
    {
     "data": {
      "image/png": "[encoded data removed]",
      "text/plain": [
       "<Figure size 432x288 with 1 Axes>"
      ]
     },
     "metadata": {
      "needs_background": "light"
     },
     "output_type": "display_data"
    },
    {
     "data": {
      "application/vnd.google.colaboratory.intrinsic+json": {
       "type": "string"
      },
      "text/plain": [
       "' Note that the ticks without bars in the visualization indicate that data is not available; for the year 2020, the data is available upto the end of October, 2020'"
      ]
     },
     "execution_count": 9,
     "metadata": {},
     "output_type": "execute_result"
    }
   ],
   "source": [
    "# Exploration of the Training Set\n",
    "import numpy as np\n",
    "''' The categorical variables'''\n",
    "\n",
    "Z = XR_train[['upc_description', 'storenum', 'wks', 'year','gross_margin_dollars']].groupby(['upc_description', 'storenum', 'wks', 'year']).sum()\n",
    "\n",
    "\n",
    "Y= Z.reset_index()\n",
    "\n",
    "''' Visualization of the Gross Margin profit per year for each store. '''\n",
    "\n",
    "def Gross_Margin(dat , year_param, mode):\n",
    "   ''' dataset: the input dataset eg., Y\n",
    "       year_param: the year of interest\n",
    "       mode: either 'storenum' ,  'upc_description' or 'wks'\n",
    "   '''\n",
    "\n",
    "   z = dat[dat['year'] == year_param].groupby([mode])['gross_margin_dollars'].sum()\n",
    "\n",
    "   z = z.reset_index()\n",
    "\n",
    "   labels = np.unique(z[mode])\n",
    "\n",
    "   gross_margin_totalprofit = list(z[\"gross_margin_dollars\"])\n",
    "\n",
    "   x = np.arange(len(labels))  # the label locations\n",
    "   width = 0.1  # the width of the bars\n",
    "   import matplotlib.pyplot as plt\n",
    "   fig, ax = plt.subplots()\n",
    "   rects1 = ax.bar(x - width/2, gross_margin_totalprofit, width, label=f'TotalProfit per {mode} for {year_param}')\n",
    "   ax.set_ylabel('Gross_Margin_Totals')\n",
    "   ax.set_title(f'Gross Margin Profit for each {mode}')\n",
    "   ax.set_xticks(x)\n",
    "   ax.set_xticklabels(labels, fontsize = 5, rotation = 'vertical')\n",
    "   ax.legend(loc = 'upper center')\n",
    "   plt.show()\n",
    "\n",
    "# The input parameter 'year_param' gives the profit for each 'mode'; the 'year_param' ranges over the years covered by the dataset Y\n",
    "Gross_Margin(dat = Y, year_param = 2020, mode = 'wks')\n",
    "\n",
    "''' Note that the ticks without bars in the visualization indicate that all data is not available for the year 2020, the data is available upto the end of October, 2020'''"
   ]
  },
  {
   "cell_type": "code",
   "execution_count": null,
   "metadata": {
    "colab": {
     "base_uri": "https://localhost:8080/",
     "height": 295
    },
    "id": "YWVemsfbKbJG",
    "outputId": "b3153b61-8c1e-4ddd-b42a-8c25ee505495"
   },
   "outputs": [
    {
     "data": {
      "image/png": "[encoded data removed]",
      "text/plain": [
       "<Figure size 432x288 with 1 Axes>"
      ]
     },
     "metadata": {
      "needs_background": "light"
     },
     "output_type": "display_data"
    }
   ],
   "source": [
    "import matplotlib.pyplot as plt\n",
    "fig, ax = plt.subplots()\n",
    "\n",
    "\n",
    "ax.hist(np.array(y_train),bins = 'auto', density = True, color = 'green') # plot histogram\n",
    "ax.set_title(\"Histogram: Out of Stock Occurrences for chosen Brands\")\n",
    "ax.set_xlabel(\"Empty Shelf Space\")\n",
    "ax.set_ylabel(\"Probability Distribution\")\n",
    "plt.show()\n"
   ]
  },
  {
   "cell_type": "code",
   "execution_count": null,
   "metadata": {
    "colab": {
     "base_uri": "https://localhost:8080/"
    },
    "id": "1b0szeEw6ddX",
    "outputId": "f45985fb-87a2-4ac6-b799-3d92c7ecd53c"
   },
   "outputs": [
    {
     "name": "stdout",
     "output_type": "stream",
     "text": [
      "Requirement already satisfied: glmnet_py in /usr/local/lib/python3.7/dist-packages (0.1.0b2)\n",
      "Requirement already satisfied: joblib>=0.10.3 in /usr/local/lib/python3.7/dist-packages (from glmnet_py) (1.0.1)\n"
     ]
    }
   ],
   "source": [
    "!pip install glmnet"
   ]
  },
  {
   "cell_type": "code",
   "execution_count": null,
   "metadata": {
    "colab": {
     "base_uri": "https://localhost:8080/"
    },
    "id": "p3kbHFtu6sdP",
    "outputId": "54886ea5-339e-4cf8-f953-014ccdb3fb07"
   },
   "outputs": [
    {
     "data": {
      "text/plain": [
       "['ElasticNet',\n",
       " 'LogitNet',\n",
       " '__all__',\n",
       " '__builtins__',\n",
       " '__cached__',\n",
       " '__doc__',\n",
       " '__file__',\n",
       " '__loader__',\n",
       " '__name__',\n",
       " '__package__',\n",
       " '__path__',\n",
       " '__spec__',\n",
       " '__version__',\n",
       " 'errors',\n",
       " 'linear',\n",
       " 'logistic',\n",
       " 'pkg_resources',\n",
       " 'scorer',\n",
       " 'util']"
      ]
     },
     "execution_count": 93,
     "metadata": {},
     "output_type": "execute_result"
    }
   ],
   "source": [
    "dir(glmnet)\n"
   ]
  },
  {
   "cell_type": "code",
   "execution_count": null,
   "metadata": {
    "id": "eT-vt0OQ8vPR"
   },
   "outputs": [],
   "source": [
    "import glmnet\n",
    "import glmnetPredict\n"
   ]
  },
  {
   "cell_type": "code",
   "execution_count": null,
   "metadata": {
    "colab": {
     "base_uri": "https://localhost:8080/"
    },
    "id": "rISpUYFp840S",
    "outputId": "36047ce3-61f3-4ed1-eb41-bd68baa9f254"
   },
   "outputs": [
    {
     "data": {
      "text/plain": [
       "['__builtins__',\n",
       " '__cached__',\n",
       " '__doc__',\n",
       " '__file__',\n",
       " '__loader__',\n",
       " '__name__',\n",
       " '__package__',\n",
       " '__spec__',\n",
       " '__warningregistry__',\n",
       " 'glmnetPredict',\n",
       " 'lambda_interp',\n",
       " 'nonzeroCoef',\n",
       " 'scipy',\n",
       " 'softmax']"
      ]
     },
     "execution_count": 97,
     "metadata": {},
     "output_type": "execute_result"
    }
   ],
   "source": [
    "dir(glmnetPredict)\n"
   ]
  },
  {
   "cell_type": "code",
   "execution_count": null,
   "metadata": {
    "colab": {
     "base_uri": "https://localhost:8080/",
     "height": 313
    },
    "id": "v_3OVuJH97ON",
    "outputId": "6e6f0f73-82e3-4ef8-d48c-14b826e99d96"
   },
   "outputs": [
    {
     "data": {
      "image/png": "[encoded data removed]",
      "text/plain": [
       "<Figure size 432x288 with 1 Axes>"
      ]
     },
     "metadata": {
      "needs_background": "light"
     },
     "output_type": "display_data"
    },
    {
     "data": {
      "application/vnd.google.colaboratory.intrinsic+json": {
       "type": "string"
      },
      "text/plain": [
       "\"  upc_dict_legend[5] represents 'STELLA ARTOIS CDR 6PK BTL'  \""
      ]
     },
     "execution_count": 11,
     "metadata": {},
     "output_type": "execute_result"
    }
   ],
   "source": [
    "upc_names_counts = XR_train[y_train >= 1]['upc_description'].value_counts()\n",
    "import matplotlib.pyplot as plt\n",
    "\n",
    "fig , ax = plt.subplots()\n",
    "ax.bar(range(len(upc_names_counts)), upc_names_counts, label = 'upc_description counts')\n",
    "ax.set_title(\"Number of empty shelves for upc_descriptions\")\n",
    "ax.set_xlabel(\"Counts of the upc codes with empty shelves over the modelling period\")\n",
    "ax.legend(loc = 'upper center')\n",
    "plt.show()\n",
    "\n",
    "\n",
    "\n",
    "''' The dictionary below translates the x-axis values to the upc_description names in the upc_description\n",
    "    count chart\n",
    "'''\n",
    "upc_dict_legend = {i:upc_names_counts._index[i] for i in range(len(upc_names_counts))}\n",
    "\n",
    "'''  upc_dict_legend[5] represents 'STELLA ARTOIS CDR 6PK BTL'  '''\n"
   ]
  },
  {
   "cell_type": "code",
   "execution_count": null,
   "metadata": {
    "colab": {
     "base_uri": "https://localhost:8080/",
     "height": 472
    },
    "id": "oB8kWuXQFznM",
    "outputId": "f1934743-5f74-464b-8683-98bc4491ff4b"
   },
   "outputs": [
    {
     "data": {
      "image/png": "[encoded data removed]",
      "text/plain": [
       "<Figure size 432x288 with 1 Axes>"
      ]
     },
     "metadata": {
      "needs_background": "light"
     },
     "output_type": "display_data"
    },
    {
     "name": "stdout",
     "output_type": "stream",
     "text": [
      "                        scanned_retail_dollars  gross_margin_dollars  \\\n",
      "scanned_retail_dollars                1.000000              0.874924   \n",
      "gross_margin_dollars                  0.874924              1.000000   \n",
      "scanned_movement                      0.525671              0.536488   \n",
      "\n",
      "                        scanned_movement  \n",
      "scanned_retail_dollars          0.525671  \n",
      "gross_margin_dollars            0.536488  \n",
      "scanned_movement                1.000000  \n"
     ]
    },
    {
     "data": {
      "application/vnd.google.colaboratory.intrinsic+json": {
       "type": "string"
      },
      "text/plain": [
       "\" In this case, we observe that the 'scanned_retail_dollars' is highly correlated with the 'gross_margin_dollars' and both these variables are\\n   mildly correlated with 'scanned_movement'\\n   The correlation results are not a surprise and in the model we take into account the correlation results.\\n\""
      ]
     },
     "execution_count": 12,
     "metadata": {},
     "output_type": "execute_result"
    }
   ],
   "source": [
    "''' A plot of the gross_margin_dollars vs. the scanned_retail_dollars indicates many 0 and negative values associated with\n",
    "gross_margin_dollars possibly indicating sales, promotions, discounts,  etc.\n",
    "'''\n",
    "\n",
    "import matplotlib.pyplot as plt\n",
    "fig, ax = plt.subplots()\n",
    "\n",
    "ax.scatter( XR_train['scanned_retail_dollars'], XR_train['gross_margin_dollars'])\n",
    "ax.set_xlabel(\"scanned_retail_dollars\")\n",
    "ax.set_ylabel('gross_margin_dollars')\n",
    "plt.show()\n",
    "\n",
    "# Correlation Analysis of the Numeric Variables\n",
    "# We first remove cases where the gross_margin_dollars is <= 0 --- possibly due to promotions, discounts etc..\n",
    "\n",
    "new_grouped = XR_train[XR_train['gross_margin_dollars'] > 0]\n",
    "correl = new_grouped[['scanned_retail_dollars', 'gross_margin_dollars', 'scanned_movement']].corr(method = 'pearson')\n",
    "print(correl)\n",
    "\n",
    "''' In this case, we observe that the 'scanned_retail_dollars' is highly correlated with the 'gross_margin_dollars' and both these variables are\n",
    "   mildly correlated with 'scanned_movement'\n",
    "   The correlation results are not a surprise and in the model we take into account the correlation results.\n",
    "'''"
   ]
  },
  {
   "cell_type": "code",
   "execution_count": null,
   "metadata": {
    "colab": {
     "base_uri": "https://localhost:8080/",
     "height": 281
    },
    "id": "JE-T9atQTGog",
    "outputId": "14b6346e-b726-4900-b05b-80b086504a0b"
   },
   "outputs": [
    {
     "data": {
      "image/png": "[encoded data removed]",
      "text/plain": [
       "<Figure size 432x288 with 1 Axes>"
      ]
     },
     "metadata": {
      "needs_background": "light"
     },
     "output_type": "display_data"
    }
   ],
   "source": [
    "\n",
    "# This aspect of EDA is NOT correct -- we use the code to illustrate a few techniques\n",
    "# For each year and week = 1, 2, 3, 4 compare the average profit from those brands that have out-of-stock occurrences in the time period with those that do not have out - of stock occurrences.\n",
    "\n",
    "#u = XR_train[y_train >=1][['upc_description', 'year', 'wks']].groupby(['year', 'wks']) - a DataframeGroupby object.\n",
    "\n",
    "def avg_prof_yr_wk(dat ): # dat = XR_train\n",
    "\n",
    "    u = XR_train[y_train == 1][['upc_description', 'year', 'wks']].groupby(['year', 'wks']) # a DataFrameGroupby object.\n",
    "    es_amnts = {}\n",
    "    nes_cmp_amnt = {}\n",
    "\n",
    "    for i in u.groups.keys():\n",
    "          names = set(np.array(u.get_group(i)['upc_description']))\n",
    "          a  = (XR_train[['year', 'wks']]== i).transpose()\n",
    "          c = (a.prod()).astype(bool)\n",
    "\n",
    "          d  = (XR_train[c][y_train[c] == 1])['upc_description'].tolist()\n",
    "          #print(d.shape)\n",
    "          #s = range(0,1862, 1)\n",
    "          b = list(np.unique([d[x] for x in range(0, len(d)) if d[x] in list(names)]))\n",
    "          es_amnts.update({i:round(XR_train[XR_train['upc_description'].isin(b)]['gross_margin_dollars'].sum(), ndigits = 2) })\n",
    "\n",
    "          f  = (XR_train[['year', 'wks']]== (2019, i[1])).transpose()\n",
    "          c_2019 = (f.prod()).astype(bool)\n",
    "\n",
    "          d_2019  = (XR_train[c_2019])['upc_description'].tolist()\n",
    "          #print(d.shape)\n",
    "          #s = range(0,1862, 1)\n",
    "          b_2019 = list(np.unique([d_2019[x] for x in range(0, len(d_2019)) if d_2019[x] in list(names)]))\n",
    "          nes_cmp_amnt.update({(2019, i[1]):round(XR_train[XR_train['upc_description'].isin(b_2019)]['gross_margin_dollars'].sum(), ndigits = 2) })\n",
    "    #print(es_amnts, nes_cmp_amnt)\n",
    "    import matplotlib.pyplot as plt\n",
    "    fig, ax = plt.subplots()\n",
    "    labels = ['WK1', 'WK2', 'WK3', 'WK4']\n",
    "    x  = np.arange(len(labels))\n",
    "    width = .35\n",
    "\n",
    "    es_2018 = list(es_amnts.values())[:4]\n",
    "    nes_2019 = list(nes_cmp_amnt.values())\n",
    "    rects1 = ax.bar(x - width/2, es_2018, width = .35, label = '2018 profit for empty shelve prods.')\n",
    "    rects2 = ax.bar(x + width/2, nes_2019, width = .35, label = '2019 profit for 2018 empty shelve prods')\n",
    "\n",
    "    ax.set_title('2018 Empty Shelf Profit vs. 2019 non-empty Shelf Profit ')\n",
    "    ax.set_ylabel('Contrasting Profits')\n",
    "    ax.set_xticks([0, 1, 2, 3])\n",
    "    ax.set_xticklabels(labels = labels)\n",
    "    ax.legend(loc  =  'lower center')\n",
    "    plt.show()\n",
    "\n",
    "\n",
    "\n",
    "    return\n",
    "\n",
    "avg_prof_yr_wk(dat = XR_train)"
   ]
  },
  {
   "cell_type": "code",
   "execution_count": null,
   "metadata": {
    "colab": {
     "base_uri": "https://localhost:8080/"
    },
    "id": "c9yYTUDiNb_w",
    "outputId": "a287ca2c-2662-4ab5-dd49-0d5ab2799fee"
   },
   "outputs": [
    {
     "name": "stdout",
     "output_type": "stream",
     "text": [
      "(21636, 9)\n"
     ]
    }
   ],
   "source": [
    "# Summarizing the data by 'upc_description', 'wks', 'storenum':\n",
    "shelves = shelves_relevant.drop(['logistic_target', 'upc', 'year', 'new_year_mth_wk'], axis = 1)\n",
    "#shelves.shape\n",
    "#df = shelves.groupby(['upc_description', 'storenum', 'wks']).sum(['scanned_retail_dollars', 'gross_margin_dollars', 'scanned_movement', 'target_out_stock']) # independent of year\n",
    "df_group_mean = shelves.groupby(['upc_description', 'storenum', 'wks']).mean(['scanned_retail_dollars', 'gross_margin_dollars', 'scanned_movement', 'profit_unit', 'retail_price_unit', 'target_out_stock'])\n",
    "df_group_mean.reset_index(level = ['upc_description', 'storenum', 'wks'], inplace = True)\n",
    "#print(df_group_mean.shape)\n",
    "\n",
    "df_group_mean.dropna(axis = 0, inplace = True)\n",
    "print(df_group_mean.shape)\n",
    "#shelves_pois = df.reset_index(level = ['upc_description', 'storenum', 'wks'])\n",
    "#print(shelves_pois.shape)\n",
    "#shelves_pois = shelves_pois.dropna(axis = 0 , inplace = True)\n",
    "#shelves_pois.index"
   ]
  },
  {
   "cell_type": "code",
   "execution_count": null,
   "metadata": {
    "colab": {
     "base_uri": "https://localhost:8080/"
    },
    "id": "EM8AAzpV-XQf",
    "outputId": "692d91f3-8320-44df-bba7-de357d968b6f"
   },
   "outputs": [
    {
     "data": {
      "text/plain": [
       "True"
      ]
     },
     "execution_count": 34,
     "metadata": {},
     "output_type": "execute_result"
    }
   ],
   "source": [
    "\n",
    "a = df_group_mean.isnull() # [['scanned_retail_dollars', 'gross_margin_dollars', 'scanned_movement','target_out_stock']].isnull()\n",
    "#a.head()\n",
    "max( [any(a.iloc[i, :]) for i in range(0, 21648)])"
   ]
  },
  {
   "cell_type": "code",
   "execution_count": null,
   "metadata": {
    "id": "uxkawNMPBicW"
   },
   "outputs": [],
   "source": [
    "df_group_mean.dropna(axis = 0, inplace = True)"
   ]
  },
  {
   "cell_type": "code",
   "execution_count": null,
   "metadata": {
    "colab": {
     "base_uri": "https://localhost:8080/"
    },
    "id": "IfaGJGzsCjDS",
    "outputId": "1f52a135-5b7d-46b5-a671-fa43709e1dc3"
   },
   "outputs": [
    {
     "data": {
      "text/plain": [
       "storenum  wks\n",
       "101       WK1    118\n",
       "          WK2    118\n",
       "          WK3    118\n",
       "          WK4    118\n",
       "105       WK1    108\n",
       "                ... \n",
       "891       WK4     80\n",
       "894       WK1     31\n",
       "          WK2     31\n",
       "          WK3     31\n",
       "          WK4     31\n",
       "Length: 256, dtype: int64"
      ]
     },
     "execution_count": 13,
     "metadata": {},
     "output_type": "execute_result"
    }
   ],
   "source": [
    "df_group_mean.shape\n",
    "X = df_group_mean.drop(['target_out_stock'], axis = 1)\n",
    "y = df_group_mean['target_out_stock']\n",
    "X.groupby(['storenum', 'wks']).size()"
   ]
  },
  {
   "cell_type": "code",
   "execution_count": null,
   "metadata": {
    "colab": {
     "base_uri": "https://localhost:8080/"
    },
    "id": "6XRmpYLipfOH",
    "outputId": "65c8d7ea-6e43-4d3d-a5a8-c33a8cfb028e"
   },
   "outputs": [
    {
     "name": "stdout",
     "output_type": "stream",
     "text": [
      "(19472, 8) (2164, 8)\n"
     ]
    }
   ],
   "source": [
    "# Construction of a training and test set\n",
    "import sklearn as sk\n",
    "import numpy as np\n",
    "from sklearn.model_selection import train_test_split # StratifiedKfold\n",
    "X_usw_train , X_usw_test,y_usw_train, y_usw_test= sk.model_selection.train_test_split(X, y, test_size = .1,random_state = 100, stratify = X[['storenum', 'wks']])\n",
    "#X_usw_train.shape\n",
    "#print(f'non_zero:{y_usw_train[y_usw_train > 0].count()} and zero :{y_usw_train[y_usw_train == 0].count()}')\n",
    "print(X_usw_train.shape, X_usw_test.shape)\n"
   ]
  },
  {
   "cell_type": "code",
   "execution_count": null,
   "metadata": {
    "id": "3T-5wBE_EKNb"
   },
   "outputs": [],
   "source": [
    "print(X_usw_train.info(), X_usw_test.info())\n"
   ]
  },
  {
   "cell_type": "markdown",
   "metadata": {
    "id": "U3oh0enjFKue"
   },
   "source": []
  },
  {
   "cell_type": "code",
   "execution_count": null,
   "metadata": {
    "colab": {
     "base_uri": "https://localhost:8080/"
    },
    "id": "0TROXcpZ3yvo",
    "outputId": "81fb53f6-36f4-47a7-97ef-51cfbfee3cd4"
   },
   "outputs": [
    {
     "name": "stdout",
     "output_type": "stream",
     "text": [
      "Int64Index([15865, 12204,   889, 16450,  4092, 19231, 18799,  8052, 10306,\n",
      "            19654,\n",
      "            ...\n",
      "             4280,   741, 21096,  5771, 10399,  5183, 11009, 12875,  2494,\n",
      "             7356],\n",
      "           dtype='int64', length=19472)\n",
      "Int64Index([ 1946, 14037, 16125,  6017,  3468,  3760,  9723, 19755, 20569,\n",
      "            17427,\n",
      "            ...\n",
      "             1437, 15537,  7298, 12761,  4079, 10506,  3606, 16923,  6271,\n",
      "            18956],\n",
      "           dtype='int64', length=2164)\n"
     ]
    }
   ],
   "source": [
    "############################################ Encoding of the Categorical Variables ################################\n",
    "\n",
    "\n",
    "\n",
    "# OneHotEncoder\n",
    "# Used when constructing a design matrix needed for use in  the API 'statsmodels' - the matrices have changed indices\n",
    "from sklearn.preprocessing import OneHotEncoder\n",
    "ohe = OneHotEncoder(drop = 'first') # instantiation\n",
    "df = {'df_0':X_usw_train, 'df_1':X_usw_test}\n",
    "df_mdl = {}\n",
    "for val in range(0,2, 1):\n",
    "\n",
    "    ohe_rslts = ohe.fit_transform(df[f'df_{val}'][['wks', 'upc_description', 'storenum']])\n",
    "    colnames = list(df[f'df_{val}']['wks'].unique()[1:]) + list(df[f'df_{val}']['upc_description'].unique()[1:])+ [\"st\" + str(x) for x in list(df[f'df_{val}']['storenum'].unique()[1:])]\n",
    "    x = pd.DataFrame(ohe_rslts.toarray(),columns = colnames )\n",
    "    #x = x.dropna(axis = 0) # in fact all rows are non-empty\n",
    "    x.index = df[f'df_{val}'].index\n",
    "    print(x.index)\n",
    "    df_mdl[f'df_mdl_{val}'] = x\n",
    "\n",
    "#print(df_mdl['df_mdl_0'].shape)\n",
    "#print(df_mdl['df_mdl_0'].index)\n"
   ]
  },
  {
   "cell_type": "code",
   "execution_count": null,
   "metadata": {
    "colab": {
     "base_uri": "https://localhost:8080/"
    },
    "id": "pTDNcG4TMpyp",
    "outputId": "786806e8-87e9-4e8e-df17-f69372192185"
   },
   "outputs": [
    {
     "data": {
      "text/plain": [
       "Int64Index([15865, 12204,   889, 16450,  4092, 19231, 18799,  8052, 10306,\n",
       "            19654,\n",
       "            ...\n",
       "             4280,   741, 21096,  5771, 10399,  5183, 11009, 12875,  2494,\n",
       "             7356],\n",
       "           dtype='int64', length=19472)"
      ]
     },
     "execution_count": 16,
     "metadata": {},
     "output_type": "execute_result"
    }
   ],
   "source": [
    "#df_mdl['df_mdl_1'].columns[0:3]\n",
    "df['df_0'].index"
   ]
  },
  {
   "cell_type": "code",
   "execution_count": null,
   "metadata": {
    "colab": {
     "base_uri": "https://localhost:8080/"
    },
    "id": "fWR6faXCRufs",
    "outputId": "82066b39-bf44-4c1b-a6cf-ed00dcc875fa"
   },
   "outputs": [
    {
     "name": "stdout",
     "output_type": "stream",
     "text": [
      "(19472, 3)\n"
     ]
    },
    {
     "data": {
      "text/plain": [
       "Int64Index([15865, 12204,   889, 16450,  4092, 19231, 18799,  8052, 10306,\n",
       "            19654,\n",
       "            ...\n",
       "             4280,   741, 21096,  5771, 10399,  5183, 11009, 12875,  2494,\n",
       "             7356],\n",
       "           dtype='int64', length=19472)"
      ]
     },
     "execution_count": 10,
     "metadata": {},
     "output_type": "execute_result"
    }
   ],
   "source": [
    "# Normalization (Standard) applied to the numeric variables in the Training Set.\n",
    "\n",
    "# Usual Normalize - (remove mean and divide by standard deviation -- standard technique)\n",
    "norm_dict = {}\n",
    "for val in range(0, 2, 1):\n",
    "     m_std_norm = df[f'df_{val}'][['scanned_retail_dollars', 'gross_margin_dollars', 'scanned_movement']].apply(lambda x: (x-x.mean())/ x.std(), axis=0)\n",
    "     #print(m_std_norm.index)\n",
    "     norm = pd.DataFrame(m_std_norm)\n",
    "     norm_dict[f'norm_{val}'] = norm\n",
    "print(norm_dict[\"norm_0\"].shape)\n",
    "norm_dict[\"norm_0\"].index"
   ]
  },
  {
   "cell_type": "code",
   "execution_count": null,
   "metadata": {
    "colab": {
     "base_uri": "https://localhost:8080/"
    },
    "id": "m-MvuqFZvdLv",
    "outputId": "26dd66c3-3c41-44f9-c442-a7c67ffc66ee"
   },
   "outputs": [
    {
     "name": "stdout",
     "output_type": "stream",
     "text": [
      "Int64Index([15865, 12204,   889, 16450,  4092, 19231, 18799,  8052, 10306,\n",
      "            19654,\n",
      "            ...\n",
      "             4280,   741, 21096,  5771, 10399,  5183, 11009, 12875,  2494,\n",
      "             7356],\n",
      "           dtype='int64', length=19472)\n"
     ]
    }
   ],
   "source": [
    " print(X_usw_train.index)\n",
    " #print(m_std_norm.index)"
   ]
  },
  {
   "cell_type": "code",
   "execution_count": null,
   "metadata": {
    "colab": {
     "base_uri": "https://localhost:8080/"
    },
    "id": "0OS-E5sUXLJi",
    "outputId": "ccbf4769-93fd-4a07-a6be-c509c539f365"
   },
   "outputs": [
    {
     "data": {
      "text/plain": [
       "(19472, 775)"
      ]
     },
     "execution_count": 11,
     "metadata": {},
     "output_type": "execute_result"
    }
   ],
   "source": [
    "# Training/Test datasets --e.g. XR_mdl_Train for use in the API 'statsmodels'\n",
    "X_usw_mdl = {\"T0\": '', \"T1\":''}\n",
    "for val in range(0, 2, 1):\n",
    "\n",
    "       a = norm_dict[f'norm_{val}']\n",
    "       X_usw_mdl[f\"T{val}\"] = df_mdl[f'df_mdl_{val}'].merge(a, how = 'inner', on = a.index,  left_index= False, right_index = False)\n",
    "#XR_mdl_train = XR_mdl_train.drop(columns = ['key_0'])\n",
    "#XR_mdl_train.head()\n",
    "X_usw_mdl[\"T0\"].shape"
   ]
  },
  {
   "cell_type": "code",
   "execution_count": null,
   "metadata": {
    "colab": {
     "base_uri": "https://localhost:8080/"
    },
    "id": "twTIdInDuIGR",
    "outputId": "d60b45e0-19b1-494d-cc3d-1bb796ec7913"
   },
   "outputs": [
    {
     "data": {
      "text/plain": [
       "Int64Index([    0,     1,     2,     3,     4,     5,     6,     7,     8,\n",
       "                9,\n",
       "            ...\n",
       "            19462, 19463, 19464, 19465, 19466, 19467, 19468, 19469, 19470,\n",
       "            19471],\n",
       "           dtype='int64', length=19472)"
      ]
     },
     "execution_count": 20,
     "metadata": {},
     "output_type": "execute_result"
    }
   ],
   "source": [
    "X_usw_mdl['T0'].index"
   ]
  },
  {
   "cell_type": "code",
   "execution_count": null,
   "metadata": {
    "colab": {
     "base_uri": "https://localhost:8080/",
     "height": 236
    },
    "id": "V4D99aRLHas2",
    "outputId": "6e57aafb-3de1-4443-b892-672b614c8bdf"
   },
   "outputs": [
    {
     "data": {
      "text/html": [
       "\n",
       "  <div id=\"df-dcdcd7ce-6028-48b7-9249-85bf40f1cc9e\">\n",
       "    <div class=\"colab-df-container\">\n",
       "      <div>\n",
       "<style scoped>\n",
       "    .dataframe tbody tr th:only-of-type {\n",
       "        vertical-align: middle;\n",
       "    }\n",
       "\n",
       "    .dataframe tbody tr th {\n",
       "        vertical-align: top;\n",
       "    }\n",
       "\n",
       "    .dataframe thead th {\n",
       "        text-align: right;\n",
       "    }\n",
       "</style>\n",
       "<table border=\"1\" class=\"dataframe\">\n",
       "  <thead>\n",
       "    <tr style=\"text-align: right;\">\n",
       "      <th></th>\n",
       "      <th>key_0</th>\n",
       "      <th>WK2</th>\n",
       "      <th>WK4</th>\n",
       "      <th>WK3</th>\n",
       "      <th>ICEHOUSE CAN</th>\n",
       "      <th>ALASKAN IPA 6PK BTL</th>\n",
       "      <th>PFRIEM CLASSC PILS 6P CN</th>\n",
       "      <th>BUD LIGHT LM RTA CAN</th>\n",
       "      <th>SPRIE MT DRK&amp;DRY APL BTL</th>\n",
       "      <th>SLVR CTY RDGTP RED 6P CAN</th>\n",
       "      <th>...</th>\n",
       "      <th>st207</th>\n",
       "      <th>st881</th>\n",
       "      <th>st883</th>\n",
       "      <th>st855</th>\n",
       "      <th>st828</th>\n",
       "      <th>st856</th>\n",
       "      <th>st873</th>\n",
       "      <th>scanned_retail_dollars</th>\n",
       "      <th>gross_margin_dollars</th>\n",
       "      <th>scanned_movement</th>\n",
       "    </tr>\n",
       "  </thead>\n",
       "  <tbody>\n",
       "    <tr>\n",
       "      <th>0</th>\n",
       "      <td>15865</td>\n",
       "      <td>0.0</td>\n",
       "      <td>0.0</td>\n",
       "      <td>0.0</td>\n",
       "      <td>0.0</td>\n",
       "      <td>0.0</td>\n",
       "      <td>0.0</td>\n",
       "      <td>0.0</td>\n",
       "      <td>0.0</td>\n",
       "      <td>0.0</td>\n",
       "      <td>...</td>\n",
       "      <td>0.0</td>\n",
       "      <td>0.0</td>\n",
       "      <td>0.0</td>\n",
       "      <td>0.0</td>\n",
       "      <td>0.0</td>\n",
       "      <td>0.0</td>\n",
       "      <td>0.0</td>\n",
       "      <td>0.055850</td>\n",
       "      <td>1.034952</td>\n",
       "      <td>0.242064</td>\n",
       "    </tr>\n",
       "    <tr>\n",
       "      <th>1</th>\n",
       "      <td>12204</td>\n",
       "      <td>1.0</td>\n",
       "      <td>0.0</td>\n",
       "      <td>0.0</td>\n",
       "      <td>0.0</td>\n",
       "      <td>0.0</td>\n",
       "      <td>0.0</td>\n",
       "      <td>0.0</td>\n",
       "      <td>0.0</td>\n",
       "      <td>0.0</td>\n",
       "      <td>...</td>\n",
       "      <td>0.0</td>\n",
       "      <td>0.0</td>\n",
       "      <td>0.0</td>\n",
       "      <td>0.0</td>\n",
       "      <td>0.0</td>\n",
       "      <td>0.0</td>\n",
       "      <td>0.0</td>\n",
       "      <td>-0.605298</td>\n",
       "      <td>-0.650914</td>\n",
       "      <td>0.271574</td>\n",
       "    </tr>\n",
       "    <tr>\n",
       "      <th>2</th>\n",
       "      <td>889</td>\n",
       "      <td>1.0</td>\n",
       "      <td>0.0</td>\n",
       "      <td>0.0</td>\n",
       "      <td>0.0</td>\n",
       "      <td>0.0</td>\n",
       "      <td>0.0</td>\n",
       "      <td>0.0</td>\n",
       "      <td>0.0</td>\n",
       "      <td>0.0</td>\n",
       "      <td>...</td>\n",
       "      <td>0.0</td>\n",
       "      <td>0.0</td>\n",
       "      <td>0.0</td>\n",
       "      <td>0.0</td>\n",
       "      <td>0.0</td>\n",
       "      <td>0.0</td>\n",
       "      <td>0.0</td>\n",
       "      <td>-0.598459</td>\n",
       "      <td>-0.650914</td>\n",
       "      <td>-0.590121</td>\n",
       "    </tr>\n",
       "    <tr>\n",
       "      <th>3</th>\n",
       "      <td>16450</td>\n",
       "      <td>1.0</td>\n",
       "      <td>0.0</td>\n",
       "      <td>0.0</td>\n",
       "      <td>0.0</td>\n",
       "      <td>0.0</td>\n",
       "      <td>0.0</td>\n",
       "      <td>0.0</td>\n",
       "      <td>0.0</td>\n",
       "      <td>0.0</td>\n",
       "      <td>...</td>\n",
       "      <td>0.0</td>\n",
       "      <td>0.0</td>\n",
       "      <td>0.0</td>\n",
       "      <td>0.0</td>\n",
       "      <td>0.0</td>\n",
       "      <td>0.0</td>\n",
       "      <td>0.0</td>\n",
       "      <td>1.115589</td>\n",
       "      <td>-0.650914</td>\n",
       "      <td>0.903090</td>\n",
       "    </tr>\n",
       "    <tr>\n",
       "      <th>4</th>\n",
       "      <td>4092</td>\n",
       "      <td>0.0</td>\n",
       "      <td>0.0</td>\n",
       "      <td>1.0</td>\n",
       "      <td>0.0</td>\n",
       "      <td>0.0</td>\n",
       "      <td>0.0</td>\n",
       "      <td>0.0</td>\n",
       "      <td>0.0</td>\n",
       "      <td>0.0</td>\n",
       "      <td>...</td>\n",
       "      <td>0.0</td>\n",
       "      <td>0.0</td>\n",
       "      <td>0.0</td>\n",
       "      <td>0.0</td>\n",
       "      <td>0.0</td>\n",
       "      <td>0.0</td>\n",
       "      <td>0.0</td>\n",
       "      <td>-0.336506</td>\n",
       "      <td>0.597125</td>\n",
       "      <td>0.861776</td>\n",
       "    </tr>\n",
       "  </tbody>\n",
       "</table>\n",
       "<p>5 rows × 775 columns</p>\n",
       "</div>\n",
       "      <button class=\"colab-df-convert\" onclick=\"convertToInteractive('df-dcdcd7ce-6028-48b7-9249-85bf40f1cc9e')\"\n",
       "              title=\"Convert this dataframe to an interactive table.\"\n",
       "              style=\"display:none;\">\n",
       "        \n",
       "  <svg xmlns=\"http://www.w3.org/2000/svg\" height=\"24px\"viewBox=\"0 0 24 24\"\n",
       "       width=\"24px\">\n",
       "    <path d=\"M0 0h24v24H0V0z\" fill=\"none\"/>\n",
       "    <path d=\"M18.56 5.44l.94 2.06.94-2.06 2.06-.94-2.06-.94-.94-2.06-.94 2.06-2.06.94zm-11 1L8.5 8.5l.94-2.06 2.06-.94-2.06-.94L8.5 2.5l-.94 2.06-2.06.94zm10 10l.94 2.06.94-2.06 2.06-.94-2.06-.94-.94-2.06-.94 2.06-2.06.94z\"/><path d=\"M17.41 7.96l-1.37-1.37c-.4-.4-.92-.59-1.43-.59-.52 0-1.04.2-1.43.59L10.3 9.45l-7.72 7.72c-.78.78-.78 2.05 0 2.83L4 21.41c.39.39.9.59 1.41.59.51 0 1.02-.2 1.41-.59l7.78-7.78 2.81-2.81c.8-.78.8-2.07 0-2.86zM5.41 20L4 18.59l7.72-7.72 1.47 1.35L5.41 20z\"/>\n",
       "  </svg>\n",
       "      </button>\n",
       "      \n",
       "  <style>\n",
       "    .colab-df-container {\n",
       "      display:flex;\n",
       "      flex-wrap:wrap;\n",
       "      gap: 12px;\n",
       "    }\n",
       "\n",
       "    .colab-df-convert {\n",
       "      background-color: #E8F0FE;\n",
       "      border: none;\n",
       "      border-radius: 50%;\n",
       "      cursor: pointer;\n",
       "      display: none;\n",
       "      fill: #1967D2;\n",
       "      height: 32px;\n",
       "      padding: 0 0 0 0;\n",
       "      width: 32px;\n",
       "    }\n",
       "\n",
       "    .colab-df-convert:hover {\n",
       "      background-color: #E2EBFA;\n",
       "      box-shadow: 0px 1px 2px rgba(60, 64, 67, 0.3), 0px 1px 3px 1px rgba(60, 64, 67, 0.15);\n",
       "      fill: #174EA6;\n",
       "    }\n",
       "\n",
       "    [theme=dark] .colab-df-convert {\n",
       "      background-color: #3B4455;\n",
       "      fill: #D2E3FC;\n",
       "    }\n",
       "\n",
       "    [theme=dark] .colab-df-convert:hover {\n",
       "      background-color: #434B5C;\n",
       "      box-shadow: 0px 1px 3px 1px rgba(0, 0, 0, 0.15);\n",
       "      filter: drop-shadow(0px 1px 2px rgba(0, 0, 0, 0.3));\n",
       "      fill: #FFFFFF;\n",
       "    }\n",
       "  </style>\n",
       "\n",
       "      <script>\n",
       "        const buttonEl =\n",
       "          document.querySelector('#df-dcdcd7ce-6028-48b7-9249-85bf40f1cc9e button.colab-df-convert');\n",
       "        buttonEl.style.display =\n",
       "          google.colab.kernel.accessAllowed ? 'block' : 'none';\n",
       "\n",
       "        async function convertToInteractive(key) {\n",
       "          const element = document.querySelector('#df-dcdcd7ce-6028-48b7-9249-85bf40f1cc9e');\n",
       "          const dataTable =\n",
       "            await google.colab.kernel.invokeFunction('convertToInteractive',\n",
       "                                                     [key], {});\n",
       "          if (!dataTable) return;\n",
       "\n",
       "          const docLinkHtml = 'Like what you see? Visit the ' +\n",
       "            '<a target=\"_blank\" href=https://colab.research.google.com/notebooks/data_table.ipynb>data table notebook</a>'\n",
       "            + ' to learn more about interactive tables.';\n",
       "          element.innerHTML = '';\n",
       "          dataTable['output_type'] = 'display_data';\n",
       "          await google.colab.output.renderOutput(dataTable, element);\n",
       "          const docLink = document.createElement('div');\n",
       "          docLink.innerHTML = docLinkHtml;\n",
       "          element.appendChild(docLink);\n",
       "        }\n",
       "      </script>\n",
       "    </div>\n",
       "  </div>\n",
       "  "
      ],
      "text/plain": [
       "   key_0  WK2  WK4  WK3  ICEHOUSE CAN  ALASKAN IPA 6PK BTL  \\\n",
       "0  15865  0.0  0.0  0.0           0.0                  0.0   \n",
       "1  12204  1.0  0.0  0.0           0.0                  0.0   \n",
       "2    889  1.0  0.0  0.0           0.0                  0.0   \n",
       "3  16450  1.0  0.0  0.0           0.0                  0.0   \n",
       "4   4092  0.0  0.0  1.0           0.0                  0.0   \n",
       "\n",
       "   PFRIEM CLASSC PILS 6P CN  BUD LIGHT LM RTA CAN  SPRIE MT DRK&DRY APL BTL  \\\n",
       "0                       0.0                   0.0                       0.0   \n",
       "1                       0.0                   0.0                       0.0   \n",
       "2                       0.0                   0.0                       0.0   \n",
       "3                       0.0                   0.0                       0.0   \n",
       "4                       0.0                   0.0                       0.0   \n",
       "\n",
       "   SLVR CTY RDGTP RED 6P CAN  ...  st207  st881  st883  st855  st828  st856  \\\n",
       "0                        0.0  ...    0.0    0.0    0.0    0.0    0.0    0.0   \n",
       "1                        0.0  ...    0.0    0.0    0.0    0.0    0.0    0.0   \n",
       "2                        0.0  ...    0.0    0.0    0.0    0.0    0.0    0.0   \n",
       "3                        0.0  ...    0.0    0.0    0.0    0.0    0.0    0.0   \n",
       "4                        0.0  ...    0.0    0.0    0.0    0.0    0.0    0.0   \n",
       "\n",
       "   st873  scanned_retail_dollars  gross_margin_dollars  scanned_movement  \n",
       "0    0.0                0.055850              1.034952          0.242064  \n",
       "1    0.0               -0.605298             -0.650914          0.271574  \n",
       "2    0.0               -0.598459             -0.650914         -0.590121  \n",
       "3    0.0                1.115589             -0.650914          0.903090  \n",
       "4    0.0               -0.336506              0.597125          0.861776  \n",
       "\n",
       "[5 rows x 775 columns]"
      ]
     },
     "execution_count": 12,
     "metadata": {},
     "output_type": "execute_result"
    }
   ],
   "source": [
    "u = X_usw_mdl['T0']\n",
    "u.head()"
   ]
  },
  {
   "cell_type": "markdown",
   "metadata": {
    "id": "aJQBKQFDJp56"
   },
   "source": [
    "**At this point various models are tried: **\n",
    "\n",
    "# Models:\n",
    "> Poisson,\n",
    "> Normal,\n",
    "> Tweedie ( compound Poisson-Gamma),\n",
    "> AdaBoost,\n",
    "> Random Forests\n",
    "\n",
    "\n",
    "\n",
    "\n",
    "\n",
    "\n",
    "---\n"
   ]
  },
  {
   "cell_type": "markdown",
   "metadata": {
    "id": "kIroNbIgKjsZ"
   },
   "source": []
  },
  {
   "cell_type": "code",
   "execution_count": null,
   "metadata": {
    "colab": {
     "base_uri": "https://localhost:8080/"
    },
    "id": "2karUAF6d7xn",
    "outputId": "92989ce5-8391-4098-f288-59ddcddd05c3"
   },
   "outputs": [
    {
     "name": "stdout",
     "output_type": "stream",
     "text": [
      "Looking in indexes: https://pypi.org/simple, https://us-python.pkg.dev/colab-wheels/public/simple/\n",
      "Requirement already satisfied: statsmodels in /usr/local/lib/python3.8/dist-packages (0.12.2)\n",
      "Requirement already satisfied: patsy>=0.5 in /usr/local/lib/python3.8/dist-packages (from statsmodels) (0.5.3)\n",
      "Requirement already satisfied: scipy>=1.1 in /usr/local/lib/python3.8/dist-packages (from statsmodels) (1.7.3)\n",
      "Requirement already satisfied: numpy>=1.15 in /usr/local/lib/python3.8/dist-packages (from statsmodels) (1.21.6)\n",
      "Requirement already satisfied: pandas>=0.21 in /usr/local/lib/python3.8/dist-packages (from statsmodels) (1.3.5)\n",
      "Requirement already satisfied: pytz>=2017.3 in /usr/local/lib/python3.8/dist-packages (from pandas>=0.21->statsmodels) (2022.6)\n",
      "Requirement already satisfied: python-dateutil>=2.7.3 in /usr/local/lib/python3.8/dist-packages (from pandas>=0.21->statsmodels) (2.8.2)\n",
      "Requirement already satisfied: six in /usr/local/lib/python3.8/dist-packages (from patsy>=0.5->statsmodels) (1.15.0)\n"
     ]
    }
   ],
   "source": [
    "# Poisson Regressor\n",
    "# As of writing glmnet versin 2.2.1 does not have an implementation for Poisson GLM\n",
    "!pip install statsmodels\n",
    "\n",
    "from statsmodels.discrete  import discrete_model\n"
   ]
  },
  {
   "cell_type": "code",
   "execution_count": null,
   "metadata": {
    "colab": {
     "base_uri": "https://localhost:8080/",
     "height": 200
    },
    "id": "7LuUA-f9duW2",
    "outputId": "a387894d-def3-47b9-f9f9-f9c6dd5c15d9"
   },
   "outputs": [
    {
     "ename": "NameError",
     "evalue": "ignored",
     "output_type": "error",
     "traceback": [
      "\u001b[0;31m---------------------------------------------------------------------------\u001b[0m",
      "\u001b[0;31mNameError\u001b[0m                                 Traceback (most recent call last)",
      "\u001b[0;32m<ipython-input-2-34ef1a563921>\u001b[0m in \u001b[0;36m<module>\u001b[0;34m\u001b[0m\n\u001b[0;32m----> 1\u001b[0;31m \u001b[0my_usw_train\u001b[0m\u001b[0;34m.\u001b[0m\u001b[0mindex\u001b[0m\u001b[0;34m\u001b[0m\u001b[0;34m\u001b[0m\u001b[0m\n\u001b[0m\u001b[1;32m      2\u001b[0m \u001b[0;34m\u001b[0m\u001b[0m\n\u001b[1;32m      3\u001b[0m \u001b[0;34m\u001b[0m\u001b[0m\n",
      "\u001b[0;31mNameError\u001b[0m: name 'y_usw_train' is not defined"
     ]
    }
   ],
   "source": [
    "y_usw_train.index\n",
    "\n",
    "\n"
   ]
  },
  {
   "cell_type": "code",
   "execution_count": null,
   "metadata": {
    "id": "w4moSgNJNNmi"
   },
   "outputs": [],
   "source": [
    "import numpy as np\n",
    "import statsmodels.api as sm\n",
    "\n",
    "X_usw_mdl_train_w_intcept = sm.add_constant(X_usw_mdl['T0'])\n",
    "#print(X_usw_mdl_train_w_intcept.shape)\n",
    "\n",
    "print(X_usw_mdl_train_w_intcept.shape, y_usw_train.index)\n",
    "a = X_usw_mdl_train_w_intcept.merge(y_usw_train.to_frame(), how  = 'inner',left_index = True, right_index = True)\n",
    "print(a.shape)\n",
    "b = a.dropna(axis = 0)\n",
    "print(b.shape)\n",
    "#y_usw_train = b['target_out_stock']\n",
    "#X_usw_mdl_train_w_intcept = b.drop(axis = 1, labels = ['target_out_stock'])\n",
    "#print(len(y_usw_train), X_usw_mdl_train_w_intcept.shape)\n",
    "import matplotlib.pyplot as plt\n",
    "fig , ax = plt.subplots()\n",
    "ax.hist(y_usw_train, bins = 10, label = 'target_out_stock')\n",
    "ax.legend()\n",
    "plt.show()"
   ]
  },
  {
   "cell_type": "code",
   "execution_count": null,
   "metadata": {
    "id": "YaqbYRDXPdz7"
   },
   "outputs": [],
   "source": [
    "# Checking the non-singularity of the Design Matrix\n",
    "poisson_model = sm.GLM(np.array(y_usw_train), np.array(X_usw_mdl_train_w_intcept), family=sm.families.Poisson())\n",
    "u, s, vt = np.linalg.svd(poisson_model.exog, 0)\n",
    "\n",
    "print(u, s, vt)\n",
    "\n",
    "# Note : A singular value (last in the diagonal matrix) is very small ( ~ e-10)\n",
    "# therefore decision to use the 'elastic_net' method -- related to ridge regression --- introducing some bias.\n"
   ]
  },
  {
   "cell_type": "code",
   "execution_count": null,
   "metadata": {
    "id": "_GhteSAletXS"
   },
   "outputs": [],
   "source": [
    "poisson_results = poisson_model.fit_regularized(method = \"elastic_net\", alpha = .1)\n",
    "\n",
    "dir(poisson_results)"
   ]
  },
  {
   "cell_type": "code",
   "execution_count": null,
   "metadata": {
    "id": "aI-og3pkSem0"
   },
   "outputs": [],
   "source": [
    "yhat = poisson_results.fittedvalues\n",
    "#max_yhat =yhat.max()\n",
    "from statsmodels.graphics.api import abline_plot\n",
    "import matplotlib.pyplot as plt\n",
    "plt.rcParams['figure.constrained_layout.use'] = True\n",
    "fig, ax = plt.subplots(2,2)\n",
    "\n",
    "ax[0, 0].scatter(y_usw_train, yhat)\n",
    "line_fit = sm.OLS(y_usw_train, sm.add_constant(yhat, prepend = True)).fit()\n",
    "abline_plot(model_results=line_fit, ax=ax[0,0])\n",
    "ax[0, 0].set_title('Model Fit Plot')\n",
    "ax[0, 0].set_xlabel('Observed values')\n",
    "ax[0, 0].set_ylabel('Fitted values')\n",
    "n_bins = 10\n",
    "ax[0, 1].hist(y_usw_train, bins = n_bins, density = True, color = 'green')\n",
    "ax[0, 1].set_title(\"Observed Training Target\")\n",
    "X_usw_mdl_w_intcept_test = sm.add_constant(X_usw_mdl['T1'])\n",
    "y_usw_pred_test = poisson_results.predict(X_usw_mdl_w_intcept_test)\n",
    "\n",
    "ax[1, 0].scatter(y_usw_test, y_usw_pred_test)\n",
    "ax[1, 0].plot(y_usw_test, y_usw_test, color = 'green')\n",
    "#ax[1, 1].hist(y_usw_pred_test, bins = 10, density = True, color = None)\n",
    "ax[1,1].set_title(\"Observed Test Target\")\n",
    "ax[1, 1].hist(y_usw_test, bins = n_bins, density = True, edgecolor = 'white', color = 'green')\n",
    "plt.show()\n"
   ]
  },
  {
   "cell_type": "code",
   "execution_count": null,
   "metadata": {
    "id": "GvoO-QX5X5_9"
   },
   "outputs": [],
   "source": [
    "# Raw mean and variance\n",
    "a = shelves.groupby(['upc_description', 'wks', 'storenum'])['target_out_stock'].sum()\n",
    "print(a.mean(), a.var())\n"
   ]
  },
  {
   "cell_type": "code",
   "execution_count": null,
   "metadata": {
    "id": "MO-kzrdAhSA2"
   },
   "outputs": [],
   "source": [
    "a = X_usw_mdl_train.merge(y_usw_train, how  = 'inner', left_index = True , right_index = True)\n",
    "b = a.dropna(axis = 0)\n",
    "print(b.shape)\n",
    "y_usw_train = b['target_out_stock']\n",
    "X_usw_mdl_train = b.drop(axis = 1, labels = ['target_out_stock'])"
   ]
  },
  {
   "cell_type": "code",
   "execution_count": null,
   "metadata": {
    "id": "LoD48HXT5J-v"
   },
   "outputs": [],
   "source": [
    "# Exploring various power ( variance power or \"tweedie_power\") options for the Tweedie Distribution\n",
    "# Calculating the deviances that result from the model that uses each 'power' number  in \"tweedie_power\"\n",
    "from sklearn import linear_model\n",
    "from sklearn.metrics import mean_tweedie_deviance\n",
    "tweedie_power = [0,1, 1.2, 1.4, 1.7, 1.9]\n",
    "dev = []\n",
    "for tp in tweedie_power:\n",
    "     clf = linear_model.TweedieRegressor(fit_intercept =True, power = tp)\n",
    "     clf.fit(X_usw_mdl_train, y_usw_train)\n",
    "     y_usw_pred = clf.predict(X_usw_mdl_train)\n",
    "     dev.append(mean_tweedie_deviance(y_usw_train, y_usw_pred, power = tp))\n",
    "dev"
   ]
  },
  {
   "cell_type": "code",
   "execution_count": null,
   "metadata": {
    "id": "0vMqyeQjJbSv"
   },
   "outputs": [],
   "source": [
    "# The Normal Distribution ( variance_power = 0) has the lowest deviance\n",
    "import matplotlib.pyplot as plt\n",
    "plt.rcParams['figure.constrained_layout.use'] = True\n",
    "fig, ax = plt.subplots(1,2)\n",
    "\n",
    "#for tp in tweedie_power:\n",
    "clf = linear_model.TweedieRegressor(fit_intercept = True, power = 0)\n",
    "clf.fit(X_usw_mdl_train, y_usw_train)\n",
    "y_usw_pred_trn = clf.predict(X_usw_mdl_train)\n",
    "ax[0].plot(y_usw_train, y_usw_pred_trn, 'o', color = 'red')\n",
    "#clf2 = linear_model.LinearRegression(fit_intercept = False)\n",
    "#clf2.fit(y_usw_train, y_usw_pred)\n",
    "ax[0].plot(y_usw_train,y_usw_train, color = 'green')\n",
    "ax[0].set_ylabel(\"prediction\")\n",
    "ax[0].set_xlabel(\"observation\")\n",
    "ax[0].set_title(\"Train: Pred vs Obs, Normal D\")\n",
    "\n",
    "#clf.fit(X_usw_mdl_test, y_usw_test)\n",
    "y_usw_pred_tst = clf.predict(X_usw_mdl_test)\n",
    "ax[1].plot(y_usw_test, y_usw_pred_tst, 'o', color = 'red')\n",
    "#clf2 = linear_model.LinearRegression(fit_intercept = False)\n",
    "#clf2.fit(y_usw_train, y_usw_pred)\n",
    "ax[1].plot(y_usw_test,y_usw_test, color = 'green')\n",
    "ax[1].set_ylabel(\"prediction\")\n",
    "ax[1].set_xlabel(\"observation\")\n",
    "ax[1].set_title(\"Test: Pred vs Obs, Normal D)\")\n",
    "\n",
    "plt.show()\n"
   ]
  },
  {
   "cell_type": "markdown",
   "metadata": {
    "id": "8Jr6zh_d6Rqe"
   },
   "source": [
    "Both the Poisson and the Normal distribution show mediocre fits on the test set.\n"
   ]
  },
  {
   "cell_type": "code",
   "execution_count": null,
   "metadata": {
    "id": "L_0dodoa8CtF"
   },
   "outputs": [],
   "source": [
    "print(X_usw_mdl_train.shape, y_usw_train.shape)"
   ]
  },
  {
   "cell_type": "code",
   "execution_count": null,
   "metadata": {
    "id": "Ey23T26_Moj-"
   },
   "outputs": [],
   "source": [
    "#AdaBoost Regression - Ensemble Method\n",
    "import numpy as np\n",
    "from sklearn.ensemble import AdaBoostRegressor\n",
    "mean_square = [()]\n",
    "\n",
    "\n",
    "for n_est in range(1, 11, 1):\n",
    "    ada_regr = AdaBoostRegressor(learning_rate = 1.1, n_estimators = n_est, random_state = 170, loss = 'square')\n",
    "    ada_regr.fit(X_usw_mdl_train, y_usw_train)\n",
    "    y_usw_ada_pred_trn = ada_regr.predict(X_usw_mdl_train)\n",
    "    y_usw_ada_pred_tst = ada_regr.predict(X_usw_mdl_test)\n",
    "    u = [round(x**2, 2) for x in list(np.array(y_usw_ada_pred_tst) - np.array(y_usw_test))]\n",
    "    v = [round(x**2, 2) for x in list(np.array(y_usw_ada_pred_trn) - np.array(y_usw_train))]\n",
    "    mean_square.append(((1/y_usw_train.shape[0])*sum(v), (1/y_usw_test.shape[0])*sum(u), n_est))\n",
    "print(mean_square)"
   ]
  },
  {
   "cell_type": "code",
   "execution_count": null,
   "metadata": {
    "id": "-MDnqkqd8DXZ"
   },
   "outputs": [],
   "source": [
    "#AdaBoost Regression - Ensemble Method\n",
    "from sklearn.ensemble import AdaBoostRegressor\n",
    "mean_square = []\n",
    "for n_est in range(10, 60, 2)\n",
    "    ada_regr = AdaBoostRegressor(learning_rate = 1.1, n_estimators = n_est, random_state = 170, loss = 'square')\n",
    "    ada_regr.fit(X_usw_mdl_train, y_usw_train)\n",
    "    y_usw_ada_pred_trn = ada_regr.predict(X_usw_mdl_train)\n",
    "    y_usw_ada_pred_tst = ada_regr.predict(X_usw_mdl_test)\n",
    "    u = [x**2 for x in list(np.array(y_usw_ada_pred_tst) - np.array(y_usw_test))]\n",
    "    mean_square.append((1/y_usw_test.shape[0])*sum(u), nest)\n",
    "print(mean_square)\n",
    "\n",
    "    if min(mean_square)\n",
    "\n",
    "import matplotlib.pyplot as plt\n",
    "plt.rcParams['figure.constrained_layout.use'] = True # Separates the plots --- allows the labels on the axes to be read.\n",
    "fig, ax = plt.subplots(1,2)\n",
    "ax[0].plot(y_usw_train, y_usw_ada_pred_trn, 'o', color = 'red')\n",
    "ax[0].plot(y_usw_train, y_usw_train, color = 'green')\n",
    "ax[0].set_ylabel(\"prediction\")\n",
    "ax[0].set_xlabel(\"observation\")\n",
    "ax[0].set_title(\"Train: Pred vs Obs\")\n",
    "y_usw_ada_pred_tst = ada_regr.predict(X_usw_mdl_test)\n",
    "u = [x**2 for x in list(np.array(y_usw_ada_pred_tst) - np.array(y_usw_test))]\n",
    "mean_square = (1/y_usw_test.shape[0])*sum(u)\n",
    "print(f'The mean squared error on the test set is {mean_square}')\n",
    "ax[1].plot(y_usw_test, y_usw_ada_pred_tst, 'o', color = 'red')\n",
    "ax[1].plot(y_usw_test, y_usw_test, color = 'green')\n",
    "ax[1].set_ylabel(\"prediction\")\n",
    "ax[1].set_xlabel(\"observation\")\n",
    "ax[1].set_title(\"Test: Pred vs Obs\")\n",
    "plt.show()\n"
   ]
  },
  {
   "cell_type": "code",
   "execution_count": null,
   "metadata": {
    "id": "siZgjcj36ni1"
   },
   "outputs": [],
   "source": [
    "# Cross-Validation for\n",
    "# 1) AdaBoost Regression\n",
    "from sklearn.model_selection import cross_val_score\n",
    "cross_val_score(ada_regr, X_usw_mdl_train, y_usw_train, cv = 3, scoring = 'neg_mean_squared_error' )\n",
    "\n"
   ]
  },
  {
   "cell_type": "code",
   "execution_count": null,
   "metadata": {
    "id": "Q3g_0asTkopz"
   },
   "outputs": [],
   "source": [
    "sorted(sklearn.metrics.SCORERS.keys())"
   ]
  }
 ],
 "metadata": {
  "colab": {
   "provenance": []
  },
  "gpuClass": "standard",
  "kernelspec": {
   "display_name": "Python 3 (ipykernel)",
   "language": "python",
   "name": "python3"
  },
  "language_info": {
   "codemirror_mode": {
    "name": "ipython",
    "version": 3
   },
   "file_extension": ".py",
   "mimetype": "text/x-python",
   "name": "python",
   "nbconvert_exporter": "python",
   "pygments_lexer": "ipython3",
   "version": "3.9.16"
  }
 },
 "nbformat": 4,
 "nbformat_minor": 1
}

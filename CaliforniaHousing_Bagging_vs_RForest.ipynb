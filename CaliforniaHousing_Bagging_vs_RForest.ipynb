{
 "cells": [
  {
   "cell_type": "code",
   "execution_count": 1,
   "id": "aa6fe8d1",
   "metadata": {},
   "outputs": [],
   "source": [
    "# Modules to import: \n",
    "import numpy as np \n",
    "import pandas as pd\n",
    "import matplotlib.pyplot as plt\n",
    "import sklearn as sk\n",
    "from sklearn import model_selection \n",
    "from sklearn import linear_model\n",
    "import math \n"
   ]
  },
  {
   "cell_type": "code",
   "execution_count": 2,
   "id": "cfe4758d",
   "metadata": {},
   "outputs": [],
   "source": [
    "# import the raw housing data set \n",
    "house_dat = pd.read_csv('https://raw.githubusercontent.com/krispad/Machine_Learning/master/housescal.txt', sep = ' ') \n"
   ]
  },
  {
   "cell_type": "code",
   "execution_count": 3,
   "id": "b5f45493",
   "metadata": {},
   "outputs": [
    {
     "data": {
      "text/html": [
       "<div>\n",
       "<style scoped>\n",
       "    .dataframe tbody tr th:only-of-type {\n",
       "        vertical-align: middle;\n",
       "    }\n",
       "\n",
       "    .dataframe tbody tr th {\n",
       "        vertical-align: top;\n",
       "    }\n",
       "\n",
       "    .dataframe thead th {\n",
       "        text-align: right;\n",
       "    }\n",
       "</style>\n",
       "<table border=\"1\" class=\"dataframe\">\n",
       "  <thead>\n",
       "    <tr style=\"text-align: right;\">\n",
       "      <th></th>\n",
       "      <th>house_value</th>\n",
       "      <th>median_income</th>\n",
       "      <th>housing_median_age</th>\n",
       "      <th>latitude</th>\n",
       "      <th>longitude</th>\n",
       "      <th>avg_total_rooms</th>\n",
       "      <th>avg_total_bedrooms</th>\n",
       "      <th>avg_population</th>\n",
       "      <th>log_households</th>\n",
       "    </tr>\n",
       "  </thead>\n",
       "  <tbody>\n",
       "    <tr>\n",
       "      <th>0</th>\n",
       "      <td>452600.0</td>\n",
       "      <td>8.3252</td>\n",
       "      <td>41</td>\n",
       "      <td>37.88</td>\n",
       "      <td>-122.23</td>\n",
       "      <td>6.984127</td>\n",
       "      <td>1.023810</td>\n",
       "      <td>2.555556</td>\n",
       "      <td>4.836282</td>\n",
       "    </tr>\n",
       "    <tr>\n",
       "      <th>1</th>\n",
       "      <td>358500.0</td>\n",
       "      <td>8.3014</td>\n",
       "      <td>21</td>\n",
       "      <td>37.86</td>\n",
       "      <td>-122.22</td>\n",
       "      <td>6.238137</td>\n",
       "      <td>0.971880</td>\n",
       "      <td>2.109842</td>\n",
       "      <td>7.037028</td>\n",
       "    </tr>\n",
       "    <tr>\n",
       "      <th>2</th>\n",
       "      <td>352100.0</td>\n",
       "      <td>7.2574</td>\n",
       "      <td>52</td>\n",
       "      <td>37.85</td>\n",
       "      <td>-122.24</td>\n",
       "      <td>8.288136</td>\n",
       "      <td>1.073446</td>\n",
       "      <td>2.802260</td>\n",
       "      <td>5.176150</td>\n",
       "    </tr>\n",
       "    <tr>\n",
       "      <th>3</th>\n",
       "      <td>341300.0</td>\n",
       "      <td>5.6431</td>\n",
       "      <td>52</td>\n",
       "      <td>37.85</td>\n",
       "      <td>-122.25</td>\n",
       "      <td>5.817352</td>\n",
       "      <td>1.073059</td>\n",
       "      <td>2.547945</td>\n",
       "      <td>5.389072</td>\n",
       "    </tr>\n",
       "    <tr>\n",
       "      <th>4</th>\n",
       "      <td>342200.0</td>\n",
       "      <td>3.8462</td>\n",
       "      <td>52</td>\n",
       "      <td>37.85</td>\n",
       "      <td>-122.25</td>\n",
       "      <td>6.281853</td>\n",
       "      <td>1.081081</td>\n",
       "      <td>2.181467</td>\n",
       "      <td>5.556828</td>\n",
       "    </tr>\n",
       "    <tr>\n",
       "      <th>...</th>\n",
       "      <td>...</td>\n",
       "      <td>...</td>\n",
       "      <td>...</td>\n",
       "      <td>...</td>\n",
       "      <td>...</td>\n",
       "      <td>...</td>\n",
       "      <td>...</td>\n",
       "      <td>...</td>\n",
       "      <td>...</td>\n",
       "    </tr>\n",
       "    <tr>\n",
       "      <th>20635</th>\n",
       "      <td>78100.0</td>\n",
       "      <td>1.5603</td>\n",
       "      <td>25</td>\n",
       "      <td>39.48</td>\n",
       "      <td>-121.09</td>\n",
       "      <td>5.045455</td>\n",
       "      <td>1.133333</td>\n",
       "      <td>2.560606</td>\n",
       "      <td>5.799093</td>\n",
       "    </tr>\n",
       "    <tr>\n",
       "      <th>20636</th>\n",
       "      <td>77100.0</td>\n",
       "      <td>2.5568</td>\n",
       "      <td>18</td>\n",
       "      <td>39.49</td>\n",
       "      <td>-121.21</td>\n",
       "      <td>6.114035</td>\n",
       "      <td>1.315789</td>\n",
       "      <td>3.122807</td>\n",
       "      <td>4.736198</td>\n",
       "    </tr>\n",
       "    <tr>\n",
       "      <th>20637</th>\n",
       "      <td>92300.0</td>\n",
       "      <td>1.7000</td>\n",
       "      <td>17</td>\n",
       "      <td>39.43</td>\n",
       "      <td>-121.22</td>\n",
       "      <td>5.205543</td>\n",
       "      <td>1.120092</td>\n",
       "      <td>2.325635</td>\n",
       "      <td>6.070738</td>\n",
       "    </tr>\n",
       "    <tr>\n",
       "      <th>20638</th>\n",
       "      <td>84700.0</td>\n",
       "      <td>1.8672</td>\n",
       "      <td>18</td>\n",
       "      <td>39.43</td>\n",
       "      <td>-121.32</td>\n",
       "      <td>5.329513</td>\n",
       "      <td>1.171920</td>\n",
       "      <td>2.123209</td>\n",
       "      <td>5.855072</td>\n",
       "    </tr>\n",
       "    <tr>\n",
       "      <th>20639</th>\n",
       "      <td>89400.0</td>\n",
       "      <td>2.3886</td>\n",
       "      <td>16</td>\n",
       "      <td>39.37</td>\n",
       "      <td>-121.24</td>\n",
       "      <td>5.254717</td>\n",
       "      <td>1.162264</td>\n",
       "      <td>2.616981</td>\n",
       "      <td>6.272877</td>\n",
       "    </tr>\n",
       "  </tbody>\n",
       "</table>\n",
       "<p>20640 rows × 9 columns</p>\n",
       "</div>"
      ],
      "text/plain": [
       "       house_value  median_income  housing_median_age  latitude  longitude  \\\n",
       "0         452600.0         8.3252                  41     37.88    -122.23   \n",
       "1         358500.0         8.3014                  21     37.86    -122.22   \n",
       "2         352100.0         7.2574                  52     37.85    -122.24   \n",
       "3         341300.0         5.6431                  52     37.85    -122.25   \n",
       "4         342200.0         3.8462                  52     37.85    -122.25   \n",
       "...            ...            ...                 ...       ...        ...   \n",
       "20635      78100.0         1.5603                  25     39.48    -121.09   \n",
       "20636      77100.0         2.5568                  18     39.49    -121.21   \n",
       "20637      92300.0         1.7000                  17     39.43    -121.22   \n",
       "20638      84700.0         1.8672                  18     39.43    -121.32   \n",
       "20639      89400.0         2.3886                  16     39.37    -121.24   \n",
       "\n",
       "       avg_total_rooms  avg_total_bedrooms  avg_population  log_households  \n",
       "0             6.984127            1.023810        2.555556        4.836282  \n",
       "1             6.238137            0.971880        2.109842        7.037028  \n",
       "2             8.288136            1.073446        2.802260        5.176150  \n",
       "3             5.817352            1.073059        2.547945        5.389072  \n",
       "4             6.281853            1.081081        2.181467        5.556828  \n",
       "...                ...                 ...             ...             ...  \n",
       "20635         5.045455            1.133333        2.560606        5.799093  \n",
       "20636         6.114035            1.315789        3.122807        4.736198  \n",
       "20637         5.205543            1.120092        2.325635        6.070738  \n",
       "20638         5.329513            1.171920        2.123209        5.855072  \n",
       "20639         5.254717            1.162264        2.616981        6.272877  \n",
       "\n",
       "[20640 rows x 9 columns]"
      ]
     },
     "execution_count": 3,
     "metadata": {},
     "output_type": "execute_result"
    }
   ],
   "source": [
    "# Apply function 'col_alt' to  'house_dat'  \n",
    "\n",
    "#'col_alt' introduces features into the data and creates a modelling data set; e.g., modifies the dataset 'house_dat'(inplace ) \n",
    "\n",
    "def col_alt(dat, cols, adj_cols):\n",
    "    ''' Arguments -\n",
    "        dat: data\n",
    "        cols: a list of cols to be adjusted to form new columns, e.g. for the dataset 'house_dat', cols = ['total_rooms', 'total_bedrooms', 'population']\n",
    "        adj_cols: list of columns used to adjust 'cols', e.g., adj_cols= ['households']                                                                                               \n",
    "    '''\n",
    "    for name in cols: \n",
    "         # adjustments \n",
    "         a = dat[name]/dat[adj_cols[0]]\n",
    "         dat.insert(value = a, column = 'avg_{}'.format(name), loc = dat.shape[1])\n",
    "         dat.drop(labels = name, axis = 1, inplace = True)\n",
    "    # Create a new feature (col)      \n",
    "    b = [math.log(x) for x in dat[adj_cols[0]]]\n",
    "    dat.insert(value = b , column = 'log_households', loc = dat.shape[1]) # log of the number of 'households' with the same 'house_value' in the lat/long region. \n",
    "    dat.drop(labels = 'households', axis = 1, inplace = True)\n",
    "\n",
    "    return(dat)\n",
    "\n",
    "# Application of the function col_alts to the dataset house_dat -- results in  'in place' changes to house_dat\n",
    "col_alt(dat = house_dat, cols = ['total_rooms', 'total_bedrooms', 'population'], adj_cols = ['households']) "
   ]
  },
  {
   "cell_type": "markdown",
   "id": "a0c4bb2c",
   "metadata": {},
   "source": [
    "We intrepret 'households' as a household of a family (families). \n",
    "The population counts appear to be based on the individuals living within a designated lat/long designation. \n",
    "Households with an average population of greater than 12 are deemed 'unusual' -- the associated households could be retirement centers, the extra population 'homeless' or living in tent cities, etc.\n",
    "\n",
    "#### Questions one may ask of the data:\n",
    "- Does 'households' include a count of caravans in trailer parks ?\n",
    "\n",
    "- Does 'total_rooms', 'total_bedrooms' include a count of the rooms in hotels, motels or inns ?"
   ]
  },
  {
   "cell_type": "code",
   "execution_count": 4,
   "id": "7e681685",
   "metadata": {},
   "outputs": [
    {
     "name": "stdout",
     "output_type": "stream",
     "text": [
      "<class 'pandas.core.frame.DataFrame'>\n",
      "RangeIndex: 20640 entries, 0 to 20639\n",
      "Data columns (total 9 columns):\n",
      " #   Column              Non-Null Count  Dtype  \n",
      "---  ------              --------------  -----  \n",
      " 0   house_value         20640 non-null  float64\n",
      " 1   median_income       20640 non-null  float64\n",
      " 2   housing_median_age  20640 non-null  int64  \n",
      " 3   latitude            20640 non-null  float64\n",
      " 4   longitude           20640 non-null  float64\n",
      " 5   avg_total_rooms     20640 non-null  object \n",
      " 6   avg_total_bedrooms  20640 non-null  object \n",
      " 7   avg_population      20640 non-null  object \n",
      " 8   log_households      20640 non-null  float64\n",
      "dtypes: float64(5), int64(1), object(3)\n",
      "memory usage: 1.4+ MB\n"
     ]
    }
   ],
   "source": [
    "# Introducing 'NaN' values\n",
    "# We define a household as a dwelling with no more than 12 people\n",
    "'''\n",
    "Insert 'NaN's where the calculated average population per household is greater than 12;  when  'avg_total_rooms' \n",
    "> 15 and when 'avg_total_bedrooms' > 8\n",
    "'''\n",
    "\n",
    "ind = house_dat['avg_population'] > 12\n",
    "house_dat.loc[ind, 'avg_population'] = 'NaN'\n",
    "ind = house_dat['avg_total_rooms'] > 15\n",
    "house_dat.loc[ind, 'avg_total_rooms'] = 'NaN'\n",
    "ind = house_dat['avg_total_bedrooms'] > 8\n",
    "house_dat.loc[ind, 'avg_total_bedrooms'] = 'NaN'\n",
    "house_dat.info() # check "
   ]
  },
  {
   "cell_type": "code",
   "execution_count": 5,
   "id": "45c94c72",
   "metadata": {},
   "outputs": [
    {
     "name": "stdout",
     "output_type": "stream",
     "text": [
      "<class 'pandas.core.frame.DataFrame'>\n",
      "RangeIndex: 20640 entries, 0 to 20639\n",
      "Data columns (total 8 columns):\n",
      " #   Column              Non-Null Count  Dtype  \n",
      "---  ------              --------------  -----  \n",
      " 0   longitude           20640 non-null  float64\n",
      " 1   latitude            20640 non-null  float64\n",
      " 2   log_households      20640 non-null  float64\n",
      " 3   avg_total_rooms     20531 non-null  object \n",
      " 4   avg_total_bedrooms  20624 non-null  object \n",
      " 5   avg_population      20608 non-null  object \n",
      " 6   median_income       20640 non-null  float64\n",
      " 7   housing_median_age  20640 non-null  int64  \n",
      "dtypes: float64(4), int64(1), object(3)\n",
      "memory usage: 1.3+ MB\n"
     ]
    }
   ],
   "source": [
    "#Identifying the entries equal to 'NaN' in the house_dat dataset. \n",
    "na_ind = house_dat.iloc[:, :] == 'NaN'\n",
    "\n",
    "# The number of 'NA' entries for each column is listed below\n",
    "na_ind.sum(axis = 0)\n",
    "\n",
    "# Note : house_dat has 'NaN' entries for the variables 'avg_population', 'avg_total_rooms', 'avg_total_bedrooms'\n",
    "\n",
    "\n",
    "#####                Imputation of values marked as 'NaN' in 'house_dat'\n",
    "    \n",
    "X_house = pd.DataFrame(house_dat[['longitude', 'latitude', 'log_households', 'avg_total_rooms', 'avg_total_bedrooms', 'avg_population', \n",
    "                                        'median_income', 'housing_median_age']])\n",
    "y_house = pd.Series(house_dat['house_value']) # has no missing values\n",
    "\n",
    "X_na_ind = X_house.iloc[:, :] == 'NaN'\n",
    "\n",
    "##### Imputation \n",
    "# transforming 'NaN' values to nan values as required by the imputation algorithms on sklearn.\n",
    "X_house[X_na_ind] = np.nan  \n",
    "\n",
    "# Impute the data using the nearest neighbour imputer in sklearn\n",
    "# We need only apply the imputer to X_house (since y_house has no 'NaN' entries)\n",
    "\n",
    "from sklearn.impute import KNNImputer \n",
    "imputer = KNNImputer(n_neighbors = 2)\n",
    "X_house_imputed = pd.DataFrame(data = imputer.fit_transform(X_house), columns = imputer.feature_names_in_)\n",
    "\n",
    "\n",
    "X_house.info() # check\n"
   ]
  },
  {
   "cell_type": "markdown",
   "id": "ddaeda64",
   "metadata": {},
   "source": [
    "Modelling the California Housing Data \n",
    "\n",
    "- Comparing Bagging and Random Forests \n"
   ]
  },
  {
   "cell_type": "code",
   "execution_count": 6,
   "id": "b80af04f",
   "metadata": {},
   "outputs": [],
   "source": [
    "# Creating a Training/Test set \n",
    "\n",
    "\n",
    "from sklearn.model_selection import train_test_split\n",
    "X_train, X_test, y_train, y_test = train_test_split(X_house_imputed, y_house, train_size = .80) # Creating train/test pairs\n"
   ]
  },
  {
   "cell_type": "code",
   "execution_count": 7,
   "id": "d8529781",
   "metadata": {},
   "outputs": [
    {
     "data": {
      "text/plain": [
       "[32, 32, 32, 32, 32]"
      ]
     },
     "execution_count": 7,
     "metadata": {},
     "output_type": "execute_result"
    }
   ],
   "source": [
    "\n",
    "#### Cost-Complexity Pruning is used to determine a parameter to use in Pruning a Tree\n",
    "####### We demonstrate the construction of a sequence of alphas that is used to determine the optimal tree for each alpha\n",
    "   ################################ Cost Complexity Pruning ############################\n",
    "\n",
    "from sklearn import tree\n",
    "dtr = tree.DecisionTreeRegressor()  \n",
    "dtr.fit(X_train, y_train)\n",
    "path = dtr.cost_complexity_pruning_path(X_train, y_train)\n",
    "ccp_alphas, impurities = path['ccp_alphas'], path['impurities']\n",
    "\n",
    "###### The following piece of code takes a long time to compute (using the California housing value training data set ) \n",
    "###############   ------ we therefore restrict the ccp_alphas to ccp_alphas <= .5 \n",
    "dtrs = []\n",
    "for ccp_alpha in ccp_alphas[(ccp_alphas <= .5)]:\n",
    "    dtr = tree.DecisionTreeRegressor(ccp_alpha=ccp_alpha)\n",
    "    dtr.fit(X_train, y_train)\n",
    "    dtrs.append(dtr)\n",
    "\n",
    "\n",
    "depth = [dtr.tree_.max_depth for dtr in dtrs]\n",
    "depth[:5] \n",
    "# The depth of the optimal tree as a function of alpha does not change for the first 5 values; in fact the depth remains\n",
    "# unchanged for ccp_alphas <= 1\n"
   ]
  },
  {
   "cell_type": "code",
   "execution_count": 8,
   "id": "03d739b9",
   "metadata": {},
   "outputs": [
    {
     "data": {
      "image/png": "[encoded data removed]",
      "text/plain": [
       "<Figure size 504x504 with 2 Axes>"
      ]
     },
     "metadata": {
      "needs_background": "light"
     },
     "output_type": "display_data"
    }
   ],
   "source": [
    "''' A visualization of the ccp_alphas ( alphas) sequence and the impact of the ccp_alphas < .5 on both the training \n",
    "and test sets '''\n",
    "\n",
    "train_scores = [dtr.fit(X_train, y_train).score(X_train, y_train) for dtr in dtrs]\n",
    "test_scores = [dtr.fit(X_train, y_train).score(X_test, y_test) for dtr in dtrs]\n",
    "\n",
    "fig , ax = plt.subplots(2,1, figsize = (7, 7))\n",
    "ax[0].plot(ccp_alphas,impurities , marker = 'o', drawstyle = 'steps-post')\n",
    "ax[0].set_title(\"The Cost-Complexity Alphas for a Single Tree: California Housing Data\")\n",
    "ax[0].set_xlabel(\"alpha\")\n",
    "ax[0].set_ylabel(\"impurity\")\n",
    "ax[1].set_title(\" Accuracy of Training/Test Data  for alpha in [0, .5]\")\n",
    "ax[1].plot(ccp_alphas[ccp_alphas <= .5000], train_scores, marker = 'o', drawstyle = 'steps-post', label = 'train')\n",
    "ax[1].plot(ccp_alphas[ccp_alphas <= .5000], test_scores, marker = 'o', drawstyle = 'steps-post', label = 'test')\n",
    "ax[1].set_xlabel('alpha')\n",
    "ax[1].set_ylabel('accuracy')\n",
    "ax[1].legend()\n",
    "plt.show()"
   ]
  },
  {
   "cell_type": "code",
   "execution_count": 9,
   "id": "8d7796f2",
   "metadata": {},
   "outputs": [],
   "source": [
    "from sklearn.ensemble import RandomForestRegressor\n",
    "\n",
    "# Illustrating the difference in results between 'bagging' and 'random forests' for the California Housing Data \n",
    "\n",
    "\n",
    "\n",
    "# Absolute error --- bagging vs. random forests\n",
    "def error_house(X_train, y_train, X_test, y_test, alpha, rnge, m):\n",
    "    '''\n",
    "     Parameters\n",
    "     ----------\n",
    "     alpha = ccp_alpha value --- the alpha multipller \n",
    "     rnge = the range if values (number of trees) in the forest\n",
    "     m = number of trees added to the forest\n",
    "    '''\n",
    "\n",
    "    rf_train = []\n",
    "    rf_test = []\n",
    "    bg_train = []\n",
    "    bg_test = []\n",
    "   \n",
    "    for n in range(1, rnge,m): # range of number of trees\n",
    "        \n",
    "        rf_house = RandomForestRegressor(max_samples = .8, max_features = .5, n_estimators = n,ccp_alpha= alpha)\n",
    "        bg_house = RandomForestRegressor(max_samples = .8, max_features = 1, n_estimators = n, ccp_alpha = alpha)\n",
    "        rf_house.fit(X_train, y_train)\n",
    "        bg_house.fit(X_train, y_train)\n",
    "        #regr_house.get_params()\n",
    "        #regr_house.score(X = X_house_imputed, y =  y_house)\n",
    "        #regr_house.apply(X = X_house_imputed)\n",
    "        #regr_house.decision_path(X_house_imputed)\n",
    "        rf_train.append(round(np.array([abs(y - x)/y for (y, x) in zip(y_train , rf_house.predict(X_train))]).mean(), 2))\n",
    "        rf_test.append(round(np.array([abs(y - x)/y for (y, x) in zip(y_test , rf_house.predict(X_test))]).mean(),2))\n",
    "        bg_train.append(round(np.array([abs(y - x)/y for (y, x) in zip(y_train , bg_house.predict(X_train))]).mean(), 2))\n",
    "        bg_test.append(round(np.array([abs(y - x)/y for (y, x) in zip(y_test , bg_house.predict(X_test))]).mean(),2))\n",
    "   \n",
    "    fig, ax = plt.subplots(figsize = (7, 7))\n",
    "    ax.plot(range(1,rnge, m), rf_train, color = 'black', label = 'random forest train')\n",
    "    ax.plot( range(1,rnge, m), rf_test, color = 'red', label = 'random forest test')\n",
    "    ax.plot( range(1, rnge, m), bg_train, color = 'green', label = 'bagging train')\n",
    "    ax.plot(range(1,rnge, m), bg_test, color = 'orange', label = 'bagging test')\n",
    "    ax.set_title('Bagging and Random Forests: California 1990 Housing Data')\n",
    "    ax.set_xlabel(\"Number of Trees\")\n",
    "    ax.set_ylabel(\"Absolute error\")\n",
    "    ax.legend()\n",
    "    plt.show()\n",
    "    \n",
    "  # For the visualization we use an alpha value(ccp_alpha) of zero (0) \n",
    "  # A forest of 40-60 trees is adequate for the illustration "
   ]
  },
  {
   "cell_type": "code",
   "execution_count": 11,
   "id": "eeb51909",
   "metadata": {},
   "outputs": [
    {
     "data": {
      "image/png": "[encoded data removed]",
      "text/plain": [
       "<Figure size 504x504 with 1 Axes>"
      ]
     },
     "metadata": {
      "needs_background": "light"
     },
     "output_type": "display_data"
    }
   ],
   "source": [
    "''' Illustration of the differences between 'bagging' and 'random forests' over a sequence of forest sizes\n",
    "'''\n",
    "error_house(X_train = X_train, y_train= y_train, X_test= X_test, y_test= y_test, alpha = 0 , rnge= 151, m = 25)\n",
    "    "
   ]
  },
  {
   "cell_type": "code",
   "execution_count": 13,
   "id": "dd2012f6",
   "metadata": {},
   "outputs": [
    {
     "data": {
      "text/plain": [
       "Text(0.5, 1.0, 'Random Forest Model : Feature Importance for the California Housing Data ')"
      ]
     },
     "execution_count": 13,
     "metadata": {},
     "output_type": "execute_result"
    },
    {
     "data": {
      "image/png": "[encoded data removed]",
      "text/plain": [
       "<Figure size 504x504 with 1 Axes>"
      ]
     },
     "metadata": {
      "needs_background": "light"
     },
     "output_type": "display_data"
    }
   ],
   "source": [
    "# Variable Importance in the California Housing Data\n",
    "rf_house = RandomForestRegressor(max_samples = .8, max_features = .5, n_estimators = 50,ccp_alpha= 0)\n",
    "rf_house.fit(X_train, y_train)\n",
    "Cal_RF_Param = pd.DataFrame({'Variable_Names': X_train.columns, 'Param_Values': rf_house.feature_importances_})\n",
    "\n",
    "fig, ax = plt.subplots(figsize = (7, 7))\n",
    "ax.barh(Cal_RF_Param['Variable_Names'] , Cal_RF_Param['Param_Values'])\n",
    "ax.set_xlabel('Parameter Values of the California Housing Data')\n",
    "ax.set_title('Random Forest Model : Feature Importance for the California Housing Data ')\n",
    "\n",
    "\n",
    "\n"
   ]
  },
  {
   "cell_type": "markdown",
   "id": "d59125c4",
   "metadata": {},
   "source": [
    "Commentary on the Features in the California Housing Data \n",
    "- Not suprisingly the 'median_inc' variable is important\n",
    "- 'median_inc' is followed by 'avg_population', 'longitude' and 'latitude' "
   ]
  },
  {
   "cell_type": "code",
   "execution_count": null,
   "id": "0d0432bc",
   "metadata": {},
   "outputs": [],
   "source": []
  }
 ],
 "metadata": {
  "kernelspec": {
   "display_name": "Python 3 (ipykernel)",
   "language": "python",
   "name": "python3"
  },
  "language_info": {
   "codemirror_mode": {
    "name": "ipython",
    "version": 3
   },
   "file_extension": ".py",
   "mimetype": "text/x-python",
   "name": "python",
   "nbconvert_exporter": "python",
   "pygments_lexer": "ipython3",
   "version": "3.9.12"
  }
 },
 "nbformat": 4,
 "nbformat_minor": 5
}
